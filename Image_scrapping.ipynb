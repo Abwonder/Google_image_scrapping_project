{
 "cells": [
  {
   "cell_type": "markdown",
   "id": "0805e4f2",
   "metadata": {},
   "source": [
    "### web_image_scrapping"
   ]
  },
  {
   "cell_type": "code",
   "execution_count": 3,
   "id": "b20ab0fb",
   "metadata": {},
   "outputs": [],
   "source": [
    "### lists of library needed\n",
    "import requests\n",
    "from bs4 import BeautifulSoup as bs    ### html beautification for easy read\n",
    "from urllib.request import urlopen     ### Automatically and remotely open url\n",
    "import logging   ## for logging errors \n",
    "import os  ### To interact with operating system"
   ]
  },
  {
   "cell_type": "markdown",
   "id": "346628f9",
   "metadata": {},
   "source": [
    "The os library in Python is a module that provides a way of interacting with the operating system. It contains a variety of functions for accessing and manipulating the file system, environment variables, processes, and other system-level resources.\n",
    "\n",
    "Some of the common functions provided by the os library include:\n",
    "\n",
    "os.getcwd(): returns the current working directory as a string\n",
    "\n",
    "os.chdir(path): changes the current working directory to the specified path\n",
    "\n",
    "os.listdir(path): returns a list of all files and directories in the specified path\n",
    "\n",
    "os.mkdir(path): creates a new directory with the specified path\n",
    "\n",
    "os.rmdir(path): removes the directory with the specified path\n",
    "\n",
    "os.path.exists(path): checks whether the specified path exists\n",
    "\n",
    "os.environ: a dictionary-like object that contains the environment variables for the current process\n",
    "\n",
    "\n",
    "The os library is a standard library in Python, which means that it is included with every Python installation and does not require any additional installation or configuration."
   ]
  },
  {
   "cell_type": "code",
   "execution_count": 6,
   "id": "bd40121e",
   "metadata": {},
   "outputs": [
    {
     "data": {
      "text/plain": [
       "'C:\\\\Users\\\\abioy\\\\Documents\\\\0. Data Science Master Course\\\\Image_scrapping&Deployment'"
      ]
     },
     "execution_count": 6,
     "metadata": {},
     "output_type": "execute_result"
    }
   ],
   "source": [
    "os.getcwd()"
   ]
  },
  {
   "cell_type": "code",
   "execution_count": null,
   "id": "4aea2db2",
   "metadata": {},
   "outputs": [],
   "source": [
    "save_dir = \"images/\" ## name of the directory to be created\n",
    "if not os.path.exists(save_dir): ## check if dir exist and if not do this!\n",
    "    os.makedirs(save_dir)"
   ]
  },
  {
   "cell_type": "code",
   "execution_count": null,
   "id": "8f530a18",
   "metadata": {},
   "outputs": [],
   "source": [
    "#used to prevent website from preventing autoscrapping, to convince the site the request is from web browser, html header!\n",
    "headers = {\"User-Agent\": \"Mozilla/5.0 (Windows NT 10.0; Win64; x64) AppleWebKit/537.36 (KHTML, like Gecko) Chrome/58.0.3029.110 Safari/537.36\"}"
   ]
  },
  {
   "cell_type": "code",
   "execution_count": 11,
   "id": "abd7dcce",
   "metadata": {},
   "outputs": [],
   "source": [
    "query = \"elon musk\"   ## search entry simulated, what we are searching!!!\n",
    "response = requests.get(f\"https://www.google.com/search?q={query}&sxsrf=AJOqlzUuff1RXi2mm8I_OqOwT9VjfIDL7w:1676996143273&source=lnms&tbm=isch&sa=X&ved=2ahUKEwiq-qK7gaf9AhXUgVYBHYReAfYQ_AUoA3oECAEQBQ&biw=1920&bih=937&dpr=1#imgrc=1th7VhSesfMJ4M\")\n",
    "### query placed in side the url query!!!"
   ]
  },
  {
   "cell_type": "code",
   "execution_count": null,
   "id": "0256b55b",
   "metadata": {},
   "outputs": [],
   "source": [
    "## sample url for concept understanding!!!!\n",
    "\"https://www.google.com/search?q=carino+crochet&tbm=isch&ved=2ahUKEwi2-IaBjcf9AhWTnCcCHYtgCgAQ2-cCegQIABAA&oq=carino+crochet&gs_lcp=CgNpbWcQAzIECCMQJ1CbB1i3DWDCEmgAcAB4AIABygGIAZYGkgEFMC4zLjGYAQCgAQGqAQtnd3Mtd2l6LWltZ8ABAQ&sclient=img&ei=QsEFZLbPAZO5nsEPi8Ep&bih=919&biw=1920&client=firefox-b-d\""
   ]
  },
  {
   "cell_type": "code",
   "execution_count": 13,
   "id": "794e2c2d",
   "metadata": {},
   "outputs": [
    {
     "data": {
      "text/plain": [
       "<Response [200]>"
      ]
     },
     "execution_count": 13,
     "metadata": {},
     "output_type": "execute_result"
    }
   ],
   "source": [
    "### check status of the request.get\n",
    "response"
   ]
  },
  {
   "cell_type": "code",
   "execution_count": 14,
   "id": "19140156",
   "metadata": {},
   "outputs": [],
   "source": [
    "## beautifulSoup---- better html\n",
    "soup = bs(response.content, \"html.parser\")  ## .contect help output content of the response"
   ]
  },
  {
   "cell_type": "code",
   "execution_count": 15,
   "id": "fd4ba63b",
   "metadata": {},
   "outputs": [
    {
     "data": {
      "text/plain": [
       "<!DOCTYPE html PUBLIC \"-//WAPFORUM//DTD XHTML Mobile 1.0//EN\" \"http://www.wapforum.org/DTD/xhtml-mobile10.dtd\">\n",
       "<html lang=\"en-NG\" xmlns=\"http://www.w3.org/1999/xhtml\"><head><meta content=\"application/xhtml+xml; charset=utf-8\" http-equiv=\"Content-Type\"/><meta content=\"no-cache\" name=\"Cache-Control\"/><title>elon musk - Google Search</title><style>a{text-decoration:none;color:inherit}a:hover{text-decoration:underline}a img{border:0}body{font-family:arial,sans-serif;padding:8px;margin:0 auto;max-width:700px;min-width:240px;}.FbhRzb{border-left:thin solid #dadce0;border-right:thin solid #dadce0;border-top:thin solid #dadce0;height:40px;overflow:hidden}.n692Zd{margin-bottom:10px}.cvifge{height:40px;border-spacing:0}.QvGUP{height:40px;padding:0 8px 0 8px;vertical-align:top}.O4cRJf{height:40px;width:100%;padding:0;padding-right:16px}.O1ePr{height:40px;padding:0;vertical-align:top}.kgJEQe{height:36px;width:98px;vertical-align:top;margin-top:4px}.lXLRf{vertical-align:top}.MhzMZd{border:0;vertical-align:middle;font-size:14px;height:40px;padding:0;width:100%;padding-left:16px}.xB0fq{height:40px;border:none;font-size:14px;background-color:#1a73e8;color:#fff;padding:0 16px;margin:0;vertical-align:top;cursor:pointer}.xB0fq:focus{border:1px solid #1a73e8}.M7pB2{border:thin solid #dadce0;margin:0 0 3px 0;font-size:13px;font-weight:500;height:40px}.euZec{width:100%;height:40px;text-align:center;border-spacing:0}table.euZec td{padding:0;width:25%}.QIqI7{display:inline-block;padding-top:4px;font-weight:bold;color:#4285f4}.EY24We{border-bottom:2px solid #4285f4}.CsQyDc{display:inline-block;color:#70757a}.TuS8Ad{font-size:14px}.HddGcc{padding:8px;color:#70757a}.dzp8ae{font-weight:bold;color:#3c4043}.rEM8G{color:#70757a}.bookcf{table-layout:fixed;width:100%;border-spacing:0}.InWNIe{text-align:center}.uZgmoc{border:thin solid #dadce0;color:#70757a;font-size:14px;text-align:center;table-layout:fixed;width:100%}.frGj1b{display:block;padding:12px 0 12px 0;width:100%}.BnJWBc{text-align:center;padding:6px 0 13px 0;height:35px}.e3goi{vertical-align:top;padding:0;height:180px}.GpQGbf{margin:auto;border-collapse:collapse;border-spacing:0;width:100%}</style></head><body><style>.X6ZCif{color:#202124;font-size:11px;line-height:16px;display:inline-block;padding-top:2px;overflow:hidden;padding-bottom:4px;width:100%}.TwVfHd{border-radius:16px;border:thin solid #dadce0;display:inline-block;padding:8px 8px;margin-right:8px;margin-bottom:4px}.yekiAe{background-color:#dadce0}.mnTahd{width:100%}.ezO2md{border:thin solid #dadce0;padding:12px 16px 12px 16px;margin-bottom:10px;font-family:arial,sans-serif}.lIMUZd{font-family:arial,sans-serif}.IkMU6e{border-spacing:0}.SjCsie{width:100%}.EnarA{text-align:center}.NZWO1b{width:162px;height:140px;line-height:140px;overflow:'hidden';text-align:center}.yWs4tf{text-align:center;margin:auto;vertical-align:middle;max-width:162px;max-height:140px}.jB2rPd{padding-top:2px;padding-bottom:8px;}.fYyStc{word-break:break-word}.ynsChf{display:block;white-space:nowrap;overflow:hidden;text-overflow:ellipsis}.Fj3V3b{color:#1967d2;font-size:14px;line-height:20px}.FrIlee{color:#202124;font-size:11px;line-height:16px}.F9iS2e{color:#70757a;font-size:11px;line-height:16px}.WMQ2Le{color:#70757a;font-size:12px;line-height:16px}.x3G5ab{color:#202124;font-size:12px;line-height:16px}.fuLhoc{color:#1967d2;font-size:16px;line-height:20px}.epoveb{font-size:24px;line-height:28px;font-weight:400;color:#202124}.dXDvrc{color:#0d652d;font-size:14px;line-height:20px;word-wrap:break-word}.dloBPe{font-weight:bold}.YVIcad{color:#70757a}.JkVVdd{color:#ea4335}.oXZRFd{color:#ea4335}.MQHtg{color:#fbbc04}.pyMRrb{color:#1e8e3e}.EtTZid{color:#1e8e3e}.M3vVJe{color:#1967d2}.qXLe6d{display:block}.NHQNef{font-style:italic}.Cb8Z7c{white-space:pre}a.ZWRArf{text-decoration:none}a .CVA68e:hover{text-decoration:underline}</style><div class=\"n692Zd\"><div class=\"BnJWBc\"><a class=\"lXLRf\" href=\"/?sa=X&amp;biw=1920&amp;bih=937&amp;output=images&amp;ie=UTF-8&amp;tbm=isch&amp;ved=0ahUKEwiZ2Z_5jcf9AhVfS0EAHayUDZMQPAgC\"><img alt=\"Google\" class=\"kgJEQe\" src=\"/images/branding/searchlogo/1x/googlelogo_desk_heirloom_color_150x55dp.gif\"/></a></div><div class=\"FbhRzb\"><form action=\"/search\"><input name=\"biw\" type=\"hidden\" value=\"1920\"/><input name=\"bih\" type=\"hidden\" value=\"937\"/><input name=\"ie\" type=\"hidden\" value=\"ISO-8859-1\"/><input name=\"tbm\" type=\"hidden\" value=\"isch\"/><input name=\"oq\" type=\"hidden\"/><input name=\"aqs\" type=\"hidden\"/><table class=\"cvifge\"><tr><td class=\"O4cRJf\"><input class=\"MhzMZd\" name=\"q\" type=\"text\" value=\"elon musk\"/></td><td class=\"O1ePr\"><input class=\"xB0fq\" type=\"submit\" value=\"Search\"/></td></tr></table></form></div><div class=\"M7pB2\"><table class=\"euZec\"><tbody><tr><td><a class=\"CsQyDc\" href=\"/search?q=elon+musk&amp;biw=1920&amp;bih=937&amp;ie=UTF-8&amp;source=lnms&amp;sa=X&amp;ved=0ahUKEwiZ2Z_5jcf9AhVfS0EAHayUDZMQ_AUIBCgA\">ALL</a></td><td class=\"EY24We\"><span class=\"QIqI7\">IMAGES</span></td><td><a class=\"CsQyDc\" href=\"/search?q=elon+musk&amp;biw=1920&amp;bih=937&amp;ie=UTF-8&amp;tbm=nws&amp;source=lnms&amp;sa=X&amp;ved=0ahUKEwiZ2Z_5jcf9AhVfS0EAHayUDZMQ_AUIBigC\">NEWS</a></td><td><a class=\"CsQyDc\" href=\"/search?q=elon+musk&amp;biw=1920&amp;bih=937&amp;ie=UTF-8&amp;tbm=vid&amp;source=lnms&amp;sa=X&amp;ved=0ahUKEwiZ2Z_5jcf9AhVfS0EAHayUDZMQ_AUIBygD\">VIDEOS</a></td></tr></tbody></table></div></div><div class=\"X6ZCif\"><a class=\"TwVfHd\" href=\"/search?biw=1920&amp;bih=937&amp;ie=UTF-8&amp;tbm=isch&amp;q=elon+musk&amp;chips=q:elon+musk,g_1:tesla&amp;sa=X&amp;ved=0ahUKEwiZ2Z_5jcf9AhVfS0EAHayUDZMQ4lYICygA\">tesla</a><a class=\"TwVfHd\" href=\"/search?biw=1920&amp;bih=937&amp;ie=UTF-8&amp;tbm=isch&amp;q=elon+musk&amp;chips=q:elon+musk,g_1:spacex&amp;sa=X&amp;ved=0ahUKEwiZ2Z_5jcf9AhVfS0EAHayUDZMQ4lYIDCgB\">spacex</a><a class=\"TwVfHd\" href=\"/search?biw=1920&amp;bih=937&amp;ie=UTF-8&amp;tbm=isch&amp;q=elon+musk&amp;chips=q:elon+musk,g_1:rocket&amp;sa=X&amp;ved=0ahUKEwiZ2Z_5jcf9AhVfS0EAHayUDZMQ4lYIDSgC\">rocket</a><a class=\"TwVfHd\" href=\"/search?biw=1920&amp;bih=937&amp;ie=UTF-8&amp;tbm=isch&amp;q=elon+musk&amp;chips=q:elon+musk,g_1:wallpaper&amp;sa=X&amp;ved=0ahUKEwiZ2Z_5jcf9AhVfS0EAHayUDZMQ4lYIDigD\">wallpaper</a><a class=\"TwVfHd\" href=\"/search?biw=1920&amp;bih=937&amp;ie=UTF-8&amp;tbm=isch&amp;q=elon+musk&amp;chips=q:elon+musk,g_1:grimes&amp;sa=X&amp;ved=0ahUKEwiZ2Z_5jcf9AhVfS0EAHayUDZMQ4lYIDygE\">grimes</a><a class=\"TwVfHd\" href=\"/search?biw=1920&amp;bih=937&amp;ie=UTF-8&amp;tbm=isch&amp;q=elon+musk&amp;chips=q:elon+musk,g_1:twitter&amp;sa=X&amp;ved=0ahUKEwiZ2Z_5jcf9AhVfS0EAHayUDZMQ4lYIECgF\">twitter</a><a class=\"TwVfHd\" href=\"/search?biw=1920&amp;bih=937&amp;ie=UTF-8&amp;tbm=isch&amp;q=elon+musk&amp;chips=q:elon+musk,g_1:paypal&amp;sa=X&amp;ved=0ahUKEwiZ2Z_5jcf9AhVfS0EAHayUDZMQ4lYIESgG\">paypal</a><a class=\"TwVfHd\" href=\"/search?biw=1920&amp;bih=937&amp;ie=UTF-8&amp;tbm=isch&amp;q=elon+musk&amp;chips=q:elon+musk,g_1:car&amp;sa=X&amp;ved=0ahUKEwiZ2Z_5jcf9AhVfS0EAHayUDZMQ4lYIEigH\">car</a><a class=\"TwVfHd\" href=\"/search?biw=1920&amp;bih=937&amp;ie=UTF-8&amp;tbm=isch&amp;q=elon+musk&amp;chips=q:elon+musk,g_1:early&amp;sa=X&amp;ved=0ahUKEwiZ2Z_5jcf9AhVfS0EAHayUDZMQ4lYIEygI\">early</a><a class=\"TwVfHd\" href=\"/search?biw=1920&amp;bih=937&amp;ie=UTF-8&amp;tbm=isch&amp;q=elon+musk&amp;chips=q:elon+musk,g_1:roadster&amp;sa=X&amp;ved=0ahUKEwiZ2Z_5jcf9AhVfS0EAHayUDZMQ4lYIFCgJ\">roadster</a></div><div><table class=\"GpQGbf\"><tr><td align=\"center\" class=\"e3goi\"><div class=\"mnTahd\"> <div> <div class=\"lIMUZd\"><div><table class=\"IkMU6e\"><tr><td><a href=\"/url?q=https://en.wikipedia.org/wiki/Elon_Musk&amp;sa=U&amp;ved=2ahUKEwiZ2Z_5jcf9AhVfS0EAHayUDZMQqoUBegQIBhAB&amp;usg=AOvVaw2elygUrPql7vBaCbrOIMCP\"><div class=\"NZWO1b\"><img alt=\"\" class=\"yWs4tf\" src=\"https://encrypted-tbn0.gstatic.com/images?q=tbn:ANd9GcRrZNzYQxi1a-qn4UAQIHAseCjJ0_ewPp2-Su3ImZe_cD-HPueyeQFHT6PGxA&amp;s\"/></div></a></td></tr><tr><td><a href=\"/url?q=https://en.wikipedia.org/wiki/Elon_Musk&amp;sa=U&amp;ved=2ahUKEwiZ2Z_5jcf9AhVfS0EAHayUDZMQr4kDegQIBhAC&amp;usg=AOvVaw12u83OW0929o3DdBhVMExu\"><div class=\"jB2rPd\"> <span class=\"qXLe6d x3G5ab\"> <span class=\"fYyStc\">Elon Musk - Wikipedia</span> </span> <span class=\"qXLe6d F9iS2e\"> <span class=\"fYyStc\">en.wikipedia.org</span> </span> </div></a></td></tr></table></div></div> </div> </div></td><td align=\"center\" class=\"e3goi\"><div class=\"mnTahd\"> <div> <div class=\"lIMUZd\"><div><table class=\"IkMU6e\"><tr><td><a href=\"/url?q=https://www.britannica.com/biography/Elon-Musk&amp;sa=U&amp;ved=2ahUKEwiZ2Z_5jcf9AhVfS0EAHayUDZMQqoUBegQIExAB&amp;usg=AOvVaw2V2ooCyRelEsPgL8jKMbcs\"><div class=\"NZWO1b\"><img alt=\"\" class=\"yWs4tf\" src=\"https://encrypted-tbn0.gstatic.com/images?q=tbn:ANd9GcQY_R5NSNoZkSlMo3hf86COGJ4fCv0s6Nx4k8uCGkWc6YGOn_m4-rIOQ3GhOhg&amp;s\"/></div></a></td></tr><tr><td><a href=\"/url?q=https://www.britannica.com/biography/Elon-Musk&amp;sa=U&amp;ved=2ahUKEwiZ2Z_5jcf9AhVfS0EAHayUDZMQr4kDegQIExAC&amp;usg=AOvVaw21k70BhTOBdeTrFQ5AWB52\"><div class=\"jB2rPd\"> <span class=\"qXLe6d x3G5ab\"> <span class=\"fYyStc\">Elon Musk | Biography,...</span> </span> <span class=\"qXLe6d F9iS2e\"> <span class=\"fYyStc\">www.britannica.com</span> </span> </div></a></td></tr></table></div></div> </div> </div></td><td align=\"center\" class=\"e3goi\"><div class=\"mnTahd\"> <div> <div class=\"lIMUZd\"><div><table class=\"IkMU6e\"><tr><td><a href=\"/url?q=https://www.britannica.com/biography/Elon-Musk&amp;sa=U&amp;ved=2ahUKEwiZ2Z_5jcf9AhVfS0EAHayUDZMQqoUBegQIEhAB&amp;usg=AOvVaw0ckERpr0XAFCcJNNYsZv1H\"><div class=\"NZWO1b\"><img alt=\"\" class=\"yWs4tf\" src=\"https://encrypted-tbn0.gstatic.com/images?q=tbn:ANd9GcS6mPr1g683xgMlTnJfswzPyIjixDUJCLKR_GUOYd43dGj0LB8Uum64r_cOjl4&amp;s\"/></div></a></td></tr><tr><td><a href=\"/url?q=https://www.britannica.com/biography/Elon-Musk&amp;sa=U&amp;ved=2ahUKEwiZ2Z_5jcf9AhVfS0EAHayUDZMQr4kDegQIEhAC&amp;usg=AOvVaw2kfRNTxLZcsyLCHgCYYKbO\"><div class=\"jB2rPd\"> <span class=\"qXLe6d x3G5ab\"> <span class=\"fYyStc\">Elon Musk | Biography,...</span> </span> <span class=\"qXLe6d F9iS2e\"> <span class=\"fYyStc\">www.britannica.com</span> </span> </div></a></td></tr></table></div></div> </div> </div></td><td align=\"center\" class=\"e3goi\"><div class=\"mnTahd\"> <div> <div class=\"lIMUZd\"><div><table class=\"IkMU6e\"><tr><td><a href=\"/url?q=https://www.bbc.com/news/business-61234231&amp;sa=U&amp;ved=2ahUKEwiZ2Z_5jcf9AhVfS0EAHayUDZMQqoUBegQIChAB&amp;usg=AOvVaw3ImMnXHcCxjABRQwxmO00g\"><div class=\"NZWO1b\"><img alt=\"\" class=\"yWs4tf\" src=\"https://encrypted-tbn0.gstatic.com/images?q=tbn:ANd9GcS6Ati5W_eLUHgusJezxxmtEJTT0Jdx0t4a5Ot2Kuh-mEnTRWxzXhTwIbR-dw&amp;s\"/></div></a></td></tr><tr><td><a href=\"/url?q=https://www.bbc.com/news/business-61234231&amp;sa=U&amp;ved=2ahUKEwiZ2Z_5jcf9AhVfS0EAHayUDZMQr4kDegQIChAC&amp;usg=AOvVaw0gaJZa9CHdwu4Otf7FF06t\"><div class=\"jB2rPd\"> <span class=\"qXLe6d x3G5ab\"> <span class=\"fYyStc\">Who is Elon Musk? - BBC...</span> </span> <span class=\"qXLe6d F9iS2e\"> <span class=\"fYyStc\">www.bbc.com</span> </span> </div></a></td></tr></table></div></div> </div> </div></td></tr><tr><td align=\"center\" class=\"e3goi\"><div class=\"mnTahd\"> <div> <div class=\"lIMUZd\"><div><table class=\"IkMU6e\"><tr><td><a href=\"/url?q=https://www.biography.com/business-leaders/elon-musk&amp;sa=U&amp;ved=2ahUKEwiZ2Z_5jcf9AhVfS0EAHayUDZMQqoUBegQIERAB&amp;usg=AOvVaw2dx-2YjIMhCJrxIirJDkKp\"><div class=\"NZWO1b\"><img alt=\"\" class=\"yWs4tf\" src=\"https://encrypted-tbn0.gstatic.com/images?q=tbn:ANd9GcTnUpouHg-rUxr-Z9c8PesJeyZU7RNznHy-z_qQb1DG8IVkXISzuTT8lYvG_e4&amp;s\"/></div></a></td></tr><tr><td><a href=\"/url?q=https://www.biography.com/business-leaders/elon-musk&amp;sa=U&amp;ved=2ahUKEwiZ2Z_5jcf9AhVfS0EAHayUDZMQr4kDegQIERAC&amp;usg=AOvVaw3fpZHmj9e_KBx8z7aquU2W\"><div class=\"jB2rPd\"> <span class=\"qXLe6d x3G5ab\"> <span class=\"fYyStc\">Elon Musk - Tesla, Age &amp;...</span> </span> <span class=\"qXLe6d F9iS2e\"> <span class=\"fYyStc\">www.biography.com</span> </span> </div></a></td></tr></table></div></div> </div> </div></td><td align=\"center\" class=\"e3goi\"><div class=\"mnTahd\"> <div> <div class=\"lIMUZd\"><div><table class=\"IkMU6e\"><tr><td><a href=\"/url?q=https://www.nbcnews.com/tech/tech-news/chinese-government-linked-paper-lashes-elon-musk-lab-leak-theory-rcna72788&amp;sa=U&amp;ved=2ahUKEwiZ2Z_5jcf9AhVfS0EAHayUDZMQqoUBegQICxAB&amp;usg=AOvVaw0d6j_ZzVJny72bjTSCLtwX\"><div class=\"NZWO1b\"><img alt=\"\" class=\"yWs4tf\" src=\"https://encrypted-tbn0.gstatic.com/images?q=tbn:ANd9GcRThVEcgJFh-LRjxdzI61oQ4-7L8-2BUtN3mLxRZQukERPkkvuEAqG8pAH4lGA&amp;s\"/></div></a></td></tr><tr><td><a href=\"/url?q=https://www.nbcnews.com/tech/tech-news/chinese-government-linked-paper-lashes-elon-musk-lab-leak-theory-rcna72788&amp;sa=U&amp;ved=2ahUKEwiZ2Z_5jcf9AhVfS0EAHayUDZMQr4kDegQICxAC&amp;usg=AOvVaw1Gby3ibhaNiYHZIVl8KVSz\"><div class=\"jB2rPd\"> <span class=\"qXLe6d x3G5ab\"> <span class=\"fYyStc\">Chinese state-linked paper...</span> </span> <span class=\"qXLe6d F9iS2e\"> <span class=\"fYyStc\">www.nbcnews.com</span> </span> </div></a></td></tr></table></div></div> </div> </div></td><td align=\"center\" class=\"e3goi\"><div class=\"mnTahd\"> <div> <div class=\"lIMUZd\"><div><table class=\"IkMU6e\"><tr><td><a href=\"/url?q=https://economictimes.indiatimes.com/tech/technology/elon-musk-switches-interest-from-crypto-to-ai/articleshow/98412833.cms&amp;sa=U&amp;ved=2ahUKEwiZ2Z_5jcf9AhVfS0EAHayUDZMQqoUBegQICRAB&amp;usg=AOvVaw3ugzBRGfDuzfEghIREwyVe\"><div class=\"NZWO1b\"><img alt=\"\" class=\"yWs4tf\" src=\"https://encrypted-tbn0.gstatic.com/images?q=tbn:ANd9GcTA8svYe-7gXEXA60iRnj43x7j18Wmz8Gd1817T0GaWazoWxGvhne9YgZDzRg&amp;s\"/></div></a></td></tr><tr><td><a href=\"/url?q=https://economictimes.indiatimes.com/tech/technology/elon-musk-switches-interest-from-crypto-to-ai/articleshow/98412833.cms&amp;sa=U&amp;ved=2ahUKEwiZ2Z_5jcf9AhVfS0EAHayUDZMQr4kDegQICRAC&amp;usg=AOvVaw23GPB1wdP2HoA96ZQl6IAw\"><div class=\"jB2rPd\"> <span class=\"qXLe6d x3G5ab\"> <span class=\"fYyStc\">elon musk: Elon Musk...</span> </span> <span class=\"qXLe6d F9iS2e\"> <span class=\"fYyStc\">economictimes.indiatimes.co...</span> </span> </div></a></td></tr></table></div></div> </div> </div></td><td align=\"center\" class=\"e3goi\"><div class=\"mnTahd\"> <div> <div class=\"lIMUZd\"><div><table class=\"IkMU6e\"><tr><td><a href=\"/url?q=https://www.rollingstone.com/culture/culture-news/elon-musk-fires-twitter-engineer-1234676828/&amp;sa=U&amp;ved=2ahUKEwiZ2Z_5jcf9AhVfS0EAHayUDZMQqoUBegQIDhAB&amp;usg=AOvVaw31Ew8GbaH7CtMlDlo6Q1UG\"><div class=\"NZWO1b\"><img alt=\"\" class=\"yWs4tf\" src=\"https://encrypted-tbn0.gstatic.com/images?q=tbn:ANd9GcSpjqyCf8tAsHbWLT-ql7CNw-T21RApz3utuErU7WITVx8UCdH3lZ_q-HCA1A&amp;s\"/></div></a></td></tr><tr><td><a href=\"/url?q=https://www.rollingstone.com/culture/culture-news/elon-musk-fires-twitter-engineer-1234676828/&amp;sa=U&amp;ved=2ahUKEwiZ2Z_5jcf9AhVfS0EAHayUDZMQr4kDegQIDhAC&amp;usg=AOvVaw1ICwMShO9bc6bqlTtj13pp\"><div class=\"jB2rPd\"> <span class=\"qXLe6d x3G5ab\"> <span class=\"fYyStc\">Elon Musk Reportedly Fires...</span> </span> <span class=\"qXLe6d F9iS2e\"> <span class=\"fYyStc\">www.rollingstone.com</span> </span> </div></a></td></tr></table></div></div> </div> </div></td></tr><tr><td align=\"center\" class=\"e3goi\"><div class=\"mnTahd\"> <div> <div class=\"lIMUZd\"><div><table class=\"IkMU6e\"><tr><td><a href=\"/url?q=https://www.cnbc.com/2022/05/17/elon-musk-blasts-joe-biden-compares-him-to-anchorman.html&amp;sa=U&amp;ved=2ahUKEwiZ2Z_5jcf9AhVfS0EAHayUDZMQqoUBegQIDBAB&amp;usg=AOvVaw2NNhAGmMiaJ--s7mmkyRWi\"><div class=\"NZWO1b\"><img alt=\"\" class=\"yWs4tf\" src=\"https://encrypted-tbn0.gstatic.com/images?q=tbn:ANd9GcQvRZ9BXapCR1eongbzXiGY2_MMU55bSZsoU95iRk2tHcp4uPpyktZ6gbBm-Q&amp;s\"/></div></a></td></tr><tr><td><a href=\"/url?q=https://www.cnbc.com/2022/05/17/elon-musk-blasts-joe-biden-compares-him-to-anchorman.html&amp;sa=U&amp;ved=2ahUKEwiZ2Z_5jcf9AhVfS0EAHayUDZMQr4kDegQIDBAC&amp;usg=AOvVaw190QbYjBopKkfwzAQAx7LJ\"><div class=\"jB2rPd\"> <span class=\"qXLe6d x3G5ab\"> <span class=\"fYyStc\">Elon Musk blasts Joe Biden,...</span> </span> <span class=\"qXLe6d F9iS2e\"> <span class=\"fYyStc\">www.cnbc.com</span> </span> </div></a></td></tr></table></div></div> </div> </div></td><td align=\"center\" class=\"e3goi\"><div class=\"mnTahd\"> <div> <div class=\"lIMUZd\"><div><table class=\"IkMU6e\"><tr><td><a href=\"/url?q=https://time.com/6260185/elon-musk-ai-culture-wars/&amp;sa=U&amp;ved=2ahUKEwiZ2Z_5jcf9AhVfS0EAHayUDZMQqoUBegQIEBAB&amp;usg=AOvVaw361yUGIXjucEehGK2p93U_\"><div class=\"NZWO1b\"><img alt=\"\" class=\"yWs4tf\" src=\"https://encrypted-tbn0.gstatic.com/images?q=tbn:ANd9GcSgI6sh1sUcQM-yI8b-pG3s5EXx7AGVI11VCNEtlfFPyR-LkAEVCKybxEF3_Q&amp;s\"/></div></a></td></tr><tr><td><a href=\"/url?q=https://time.com/6260185/elon-musk-ai-culture-wars/&amp;sa=U&amp;ved=2ahUKEwiZ2Z_5jcf9AhVfS0EAHayUDZMQr4kDegQIEBAC&amp;usg=AOvVaw0N2i4efGjuhMIKDHAXBmgs\"><div class=\"jB2rPd\"> <span class=\"qXLe6d x3G5ab\"> <span class=\"fYyStc\">Elon Musk Is Bringing the...</span> </span> <span class=\"qXLe6d F9iS2e\"> <span class=\"fYyStc\">time.com</span> </span> </div></a></td></tr></table></div></div> </div> </div></td><td align=\"center\" class=\"e3goi\"><div class=\"mnTahd\"> <div> <div class=\"lIMUZd\"><div><table class=\"IkMU6e\"><tr><td><a href=\"/url?q=https://www.engadget.com/elon-musk-says-california-is-home-to-teslas-engineering-headquarters-172303533.html&amp;sa=U&amp;ved=2ahUKEwiZ2Z_5jcf9AhVfS0EAHayUDZMQqoUBegQIDxAB&amp;usg=AOvVaw3o_9QMshZCo_Rua6-AE-G8\"><div class=\"NZWO1b\"><img alt=\"\" class=\"yWs4tf\" src=\"https://encrypted-tbn0.gstatic.com/images?q=tbn:ANd9GcQVh9Pj1g_JNFY8Z4_Nf_8Dfka8BVtRfsLMt2q-z8uivZN94et8BnJR9u6wNQ&amp;s\"/></div></a></td></tr><tr><td><a href=\"/url?q=https://www.engadget.com/elon-musk-says-california-is-home-to-teslas-engineering-headquarters-172303533.html&amp;sa=U&amp;ved=2ahUKEwiZ2Z_5jcf9AhVfS0EAHayUDZMQr4kDegQIDxAC&amp;usg=AOvVaw16GrNRxPSjVl4KMP0dbE3n\"><div class=\"jB2rPd\"> <span class=\"qXLe6d x3G5ab\"> <span class=\"fYyStc\">Elon Musk says California...</span> </span> <span class=\"qXLe6d F9iS2e\"> <span class=\"fYyStc\">www.engadget.com</span> </span> </div></a></td></tr></table></div></div> </div> </div></td><td align=\"center\" class=\"e3goi\"><div class=\"mnTahd\"> <div> <div class=\"lIMUZd\"><div><table class=\"IkMU6e\"><tr><td><a href=\"/url?q=https://www.premiumtimesng.com/news/more-news/542350-twitter-sues-elon-musk-for-terminating-44-billion-takeover-deal.html&amp;sa=U&amp;ved=2ahUKEwiZ2Z_5jcf9AhVfS0EAHayUDZMQqoUBegQIDRAB&amp;usg=AOvVaw1lK63LNVJFs3qASgDn8wO0\"><div class=\"NZWO1b\"><img alt=\"\" class=\"yWs4tf\" src=\"https://encrypted-tbn0.gstatic.com/images?q=tbn:ANd9GcRLJ1vDJtATKnapF2lfX-jts26QmVoFqRUs5udl66RRnyucR-XR9IRtI_sGTA&amp;s\"/></div></a></td></tr><tr><td><a href=\"/url?q=https://www.premiumtimesng.com/news/more-news/542350-twitter-sues-elon-musk-for-terminating-44-billion-takeover-deal.html&amp;sa=U&amp;ved=2ahUKEwiZ2Z_5jcf9AhVfS0EAHayUDZMQr4kDegQIDRAC&amp;usg=AOvVaw1QxLpMrtHtPYfVwMAzFlvQ\"><div class=\"jB2rPd\"> <span class=\"qXLe6d x3G5ab\"> <span class=\"fYyStc\">Twitter sues Elon Musk for...</span> </span> <span class=\"qXLe6d F9iS2e\"> <span class=\"fYyStc\">www.premiumtimesng.com</span> </span> </div></a></td></tr></table></div></div> </div> </div></td></tr><tr><td align=\"center\" class=\"e3goi\"><div class=\"mnTahd\"> <div> <div class=\"lIMUZd\"><div><table class=\"IkMU6e\"><tr><td><a href=\"/url?q=https://www.investopedia.com/articles/personal-finance/061015/how-elon-musk-became-elon-musk.asp&amp;sa=U&amp;ved=2ahUKEwiZ2Z_5jcf9AhVfS0EAHayUDZMQqoUBegQIAxAB&amp;usg=AOvVaw1PzGoFIS3mnnGFrpUrsacU\"><div class=\"NZWO1b\"><img alt=\"\" class=\"yWs4tf\" src=\"https://encrypted-tbn0.gstatic.com/images?q=tbn:ANd9GcRxf-Jbkdb6IZIh7oNtWyJhYtw3Kg80gamyGyRHZS8klkCrAzThS_D2ymM47A&amp;s\"/></div></a></td></tr><tr><td><a href=\"/url?q=https://www.investopedia.com/articles/personal-finance/061015/how-elon-musk-became-elon-musk.asp&amp;sa=U&amp;ved=2ahUKEwiZ2Z_5jcf9AhVfS0EAHayUDZMQr4kDegQIAxAC&amp;usg=AOvVaw2c4aUocFwY9LEjDLY-J1_d\"><div class=\"jB2rPd\"> <span class=\"qXLe6d x3G5ab\"> <span class=\"fYyStc\">Who Is Elon Musk?</span> </span> <span class=\"qXLe6d F9iS2e\"> <span class=\"fYyStc\">www.investopedia.com</span> </span> </div></a></td></tr></table></div></div> </div> </div></td><td align=\"center\" class=\"e3goi\"><div class=\"mnTahd\"> <div> <div class=\"lIMUZd\"><div><table class=\"IkMU6e\"><tr><td><a href=\"/url?q=https://www.insider.com/elon-musk-twitter-livestream-new-mic-fart-noises-2023-2&amp;sa=U&amp;ved=2ahUKEwiZ2Z_5jcf9AhVfS0EAHayUDZMQqoUBegQIABAB&amp;usg=AOvVaw1xJ9A5oH9k30JknTSyQudj\"><div class=\"NZWO1b\"><img alt=\"\" class=\"yWs4tf\" src=\"https://encrypted-tbn0.gstatic.com/images?q=tbn:ANd9GcTUzLWYXh__L8oPsNGf4qYrfxeSuYuHosoUdfSEgEIvF9wIWScbAQVGKDWVXg&amp;s\"/></div></a></td></tr><tr><td><a href=\"/url?q=https://www.insider.com/elon-musk-twitter-livestream-new-mic-fart-noises-2023-2&amp;sa=U&amp;ved=2ahUKEwiZ2Z_5jcf9AhVfS0EAHayUDZMQr4kDegQIABAC&amp;usg=AOvVaw3kayQfcy6GaPQGxux8T3pO\"><div class=\"jB2rPd\"> <span class=\"qXLe6d x3G5ab\"> <span class=\"fYyStc\">Elon Musk Holds 2 a.m....</span> </span> <span class=\"qXLe6d F9iS2e\"> <span class=\"fYyStc\">www.insider.com</span> </span> </div></a></td></tr></table></div></div> </div> </div></td><td align=\"center\" class=\"e3goi\"><div class=\"mnTahd\"> <div> <div class=\"lIMUZd\"><div><table class=\"IkMU6e\"><tr><td><a href=\"/url?q=https://www.foxbusiness.com/business-leaders/elon-musks-first-100-days-twitter-defined-rapid-change-challenges&amp;sa=U&amp;ved=2ahUKEwiZ2Z_5jcf9AhVfS0EAHayUDZMQqoUBegQIBRAB&amp;usg=AOvVaw3pD3N_Nxy8Us9c-99FNEoK\"><div class=\"NZWO1b\"><img alt=\"\" class=\"yWs4tf\" src=\"https://encrypted-tbn0.gstatic.com/images?q=tbn:ANd9GcQdOp3ZpYbou1yMlj2sgHy7eCNp2ua5Hj2PFAONLM8ppB9TWUPsy644Z0PaXP0&amp;s\"/></div></a></td></tr><tr><td><a href=\"/url?q=https://www.foxbusiness.com/business-leaders/elon-musks-first-100-days-twitter-defined-rapid-change-challenges&amp;sa=U&amp;ved=2ahUKEwiZ2Z_5jcf9AhVfS0EAHayUDZMQr4kDegQIBRAC&amp;usg=AOvVaw3mN7W8Givm7MAF5pJgCGFE\"><div class=\"jB2rPd\"> <span class=\"qXLe6d x3G5ab\"> <span class=\"fYyStc\">Elon Musk's first 100 days...</span> </span> <span class=\"qXLe6d F9iS2e\"> <span class=\"fYyStc\">www.foxbusiness.com</span> </span> </div></a></td></tr></table></div></div> </div> </div></td><td align=\"center\" class=\"e3goi\"><div class=\"mnTahd\"> <div> <div class=\"lIMUZd\"><div><table class=\"IkMU6e\"><tr><td><a href=\"/url?q=https://www.npr.org/2022/06/01/1102513281/elon-musk-tesla-return-to-work&amp;sa=U&amp;ved=2ahUKEwiZ2Z_5jcf9AhVfS0EAHayUDZMQqoUBegQIBBAB&amp;usg=AOvVaw3mNKxMpVnbUj8pbn-C4yXP\"><div class=\"NZWO1b\"><img alt=\"\" class=\"yWs4tf\" src=\"https://encrypted-tbn0.gstatic.com/images?q=tbn:ANd9GcTtX7FeZsRL8LjgIshh_tdjRV3TEn1l2VXI6e9xT6FxFeTHJoSq2EomyU-7PIs&amp;s\"/></div></a></td></tr><tr><td><a href=\"/url?q=https://www.npr.org/2022/06/01/1102513281/elon-musk-tesla-return-to-work&amp;sa=U&amp;ved=2ahUKEwiZ2Z_5jcf9AhVfS0EAHayUDZMQr4kDegQIBBAC&amp;usg=AOvVaw319tqttnKDd3jFwjMjVHYf\"><div class=\"jB2rPd\"> <span class=\"qXLe6d x3G5ab\"> <span class=\"fYyStc\">Elon Musk tells employees...</span> </span> <span class=\"qXLe6d F9iS2e\"> <span class=\"fYyStc\">www.npr.org</span> </span> </div></a></td></tr></table></div></div> </div> </div></td></tr><tr><td align=\"center\" class=\"e3goi\"><div class=\"mnTahd\"> <div> <div class=\"lIMUZd\"><div><table class=\"IkMU6e\"><tr><td><a href=\"/url?q=https://www.cnbc.com/2023/03/02/us-regulators-rejected-elon-musks-bid-to-test-brain-chips-in-humans-citing-safety-risks.html&amp;sa=U&amp;ved=2ahUKEwiZ2Z_5jcf9AhVfS0EAHayUDZMQqoUBegQIBxAB&amp;usg=AOvVaw3WIWwfgmAs8MRYMw_D9UeZ\"><div class=\"NZWO1b\"><img alt=\"\" class=\"yWs4tf\" src=\"https://encrypted-tbn0.gstatic.com/images?q=tbn:ANd9GcQ5a5ISD3XxnPLqDKAgLZdh2IMLghZ5OmFHrTh7GfhWsIp1FfW7QULotXH16A&amp;s\"/></div></a></td></tr><tr><td><a href=\"/url?q=https://www.cnbc.com/2023/03/02/us-regulators-rejected-elon-musks-bid-to-test-brain-chips-in-humans-citing-safety-risks.html&amp;sa=U&amp;ved=2ahUKEwiZ2Z_5jcf9AhVfS0EAHayUDZMQr4kDegQIBxAC&amp;usg=AOvVaw0mc6aguf60WPUxFcCq4In1\"><div class=\"jB2rPd\"> <span class=\"qXLe6d x3G5ab\"> <span class=\"fYyStc\">U.S. regulators rejected...</span> </span> <span class=\"qXLe6d F9iS2e\"> <span class=\"fYyStc\">www.cnbc.com</span> </span> </div></a></td></tr></table></div></div> </div> </div></td><td align=\"center\" class=\"e3goi\"><div class=\"mnTahd\"> <div> <div class=\"lIMUZd\"><div><table class=\"IkMU6e\"><tr><td><a href=\"/url?q=https://www.usatoday.com/story/tech/2023/01/29/elon-musk-tesla-trial-tweet-recap/11145757002/&amp;sa=U&amp;ved=2ahUKEwiZ2Z_5jcf9AhVfS0EAHayUDZMQqoUBegQICBAB&amp;usg=AOvVaw3FTmREl_yG1XBRTiEQDdfs\"><div class=\"NZWO1b\"><img alt=\"\" class=\"yWs4tf\" src=\"https://encrypted-tbn0.gstatic.com/images?q=tbn:ANd9GcQVZM30e1gWmOjcaNb5csU2wOgBt5Es32BU1tQKcHRKb9pxQU-1iJAzHGeilw&amp;s\"/></div></a></td></tr><tr><td><a href=\"/url?q=https://www.usatoday.com/story/tech/2023/01/29/elon-musk-tesla-trial-tweet-recap/11145757002/&amp;sa=U&amp;ved=2ahUKEwiZ2Z_5jcf9AhVfS0EAHayUDZMQr4kDegQICBAC&amp;usg=AOvVaw3Cf__V8FYNitsPKtp1WAlM\"><div class=\"jB2rPd\"> <span class=\"qXLe6d x3G5ab\"> <span class=\"fYyStc\">Elon Musk Tesla trial...</span> </span> <span class=\"qXLe6d F9iS2e\"> <span class=\"fYyStc\">www.usatoday.com</span> </span> </div></a></td></tr></table></div></div> </div> </div></td><td align=\"center\" class=\"e3goi\"><div class=\"mnTahd\"> <div> <div class=\"lIMUZd\"><div><table class=\"IkMU6e\"><tr><td><a href=\"/url?q=https://www.premiumtimesng.com/news/top-news/571642-elon-musk-to-resign-as-twitter-ceo-after-finding-replacement.html&amp;sa=U&amp;ved=2ahUKEwiZ2Z_5jcf9AhVfS0EAHayUDZMQqoUBegQIAhAB&amp;usg=AOvVaw23Bnijdmv-BMnnkQHyTXU4\"><div class=\"NZWO1b\"><img alt=\"\" class=\"yWs4tf\" src=\"https://encrypted-tbn0.gstatic.com/images?q=tbn:ANd9GcTjy8AlFwCukvekmmnTHe87WS4K5cr8Pcb4xdDmZzGEfXYp8JTNQGPdrtaQlIE&amp;s\"/></div></a></td></tr><tr><td><a href=\"/url?q=https://www.premiumtimesng.com/news/top-news/571642-elon-musk-to-resign-as-twitter-ceo-after-finding-replacement.html&amp;sa=U&amp;ved=2ahUKEwiZ2Z_5jcf9AhVfS0EAHayUDZMQr4kDegQIAhAC&amp;usg=AOvVaw0QDv3VdWYbeyeAkbv8Ewmv\"><div class=\"jB2rPd\"> <span class=\"qXLe6d x3G5ab\"> <span class=\"fYyStc\">Elon Musk to resign as...</span> </span> <span class=\"qXLe6d F9iS2e\"> <span class=\"fYyStc\">www.premiumtimesng.com</span> </span> </div></a></td></tr></table></div></div> </div> </div></td><td align=\"center\" class=\"e3goi\"><div class=\"mnTahd\"> <div> <div class=\"lIMUZd\"><div><table class=\"IkMU6e\"><tr><td><a href=\"/url?q=https://www.bankrate.com/investing/elon-musk/&amp;sa=U&amp;ved=2ahUKEwiZ2Z_5jcf9AhVfS0EAHayUDZMQqoUBegQIARAB&amp;usg=AOvVaw0v-remRv2xj--Qb9lHWcHS\"><div class=\"NZWO1b\"><img alt=\"\" class=\"yWs4tf\" src=\"https://encrypted-tbn0.gstatic.com/images?q=tbn:ANd9GcTEZ65f9kJG_OymrC9Q-WaxxpPNgHt1SmEn96rBYancpja9TzOcJBwa-VGgVCM&amp;s\"/></div></a></td></tr><tr><td><a href=\"/url?q=https://www.bankrate.com/investing/elon-musk/&amp;sa=U&amp;ved=2ahUKEwiZ2Z_5jcf9AhVfS0EAHayUDZMQr4kDegQIARAC&amp;usg=AOvVaw2xu_4pVv2nfNW4gqhY7D0t\"><div class=\"jB2rPd\"> <span class=\"qXLe6d x3G5ab\"> <span class=\"fYyStc\">Elon Musk In 2022: What To...</span> </span> <span class=\"qXLe6d F9iS2e\"> <span class=\"fYyStc\">www.bankrate.com</span> </span> </div></a></td></tr></table></div></div> </div> </div></td></tr></table></div><table class=\"uZgmoc\"><tbody><td><a class=\"frGj1b\" href=\"/search?q=elon+musk&amp;biw=1920&amp;bih=937&amp;ie=UTF-8&amp;tbm=isch&amp;ei=PsIFZJnCBd-WhbIPrKm2mAk&amp;start=20&amp;sa=N\">Next &gt;</a></td></tbody></table><br/><div class=\"TuS8Ad\" data-ved=\"0ahUKEwiZ2Z_5jcf9AhVfS0EAHayUDZMQpyoIUg\"><style>.VYM29{font-weight:bold}</style><div align=\"center\" class=\"HddGcc\"><span class=\"VYM29\">Lagos</span><span> - </span><span>From your IP address</span><span> - </span><a href=\"/url?q=https://support.google.com/websearch%3Fp%3Dws_settings_location%26hl%3Den-NG&amp;sa=U&amp;ved=0ahUKEwiZ2Z_5jcf9AhVfS0EAHayUDZMQty4IUw&amp;usg=AOvVaw0y8kstAE6DP4bvLOJ088BE\">Learn more</a></div><div align=\"center\"><a class=\"rEM8G\" href=\"/url?q=https://accounts.google.com/ServiceLogin%3Fcontinue%3Dhttps://www.google.com/search%253Fq%253Delon%252Bmusk%2526sxsrf%253DAJOqlzUuff1RXi2mm8I_OqOwT9VjfIDL7w:1676996143273%2526source%253Dlnms%2526tbm%253Disch%2526sa%253DX%2526ved%253D2ahUKEwiq-qK7gaf9AhXUgVYBHYReAfYQ_AUoA3oECAEQBQ%2526biw%253D1920%2526bih%253D937%2526dpr%253D1%26hl%3Den&amp;sa=U&amp;ved=0ahUKEwiZ2Z_5jcf9AhVfS0EAHayUDZMQxs8CCFQ&amp;usg=AOvVaw2MhfQD7snkVi1bxk-hFBvk\">Sign in</a></div><div><table class=\"bookcf\"><tbody class=\"InWNIe\"><tr><td><a class=\"rEM8G\" href=\"https://www.google.com/preferences?hl=en&amp;sa=X&amp;ved=0ahUKEwiZ2Z_5jcf9AhVfS0EAHayUDZMQv5YECFU\">Settings</a></td><td><a class=\"rEM8G\" href=\"https://www.google.com/intl/en_ng/policies/privacy/\">Privacy</a></td><td><a class=\"rEM8G\" href=\"https://www.google.com/intl/en_ng/policies/terms/\">Terms</a></td></tr></tbody></table></div></div><div> </div></body></html>"
      ]
     },
     "execution_count": 15,
     "metadata": {},
     "output_type": "execute_result"
    }
   ],
   "source": [
    "soup"
   ]
  },
  {
   "cell_type": "code",
   "execution_count": 16,
   "id": "7658a4a4",
   "metadata": {},
   "outputs": [],
   "source": [
    "### find all image, using their key!!!\n",
    "image_tags = soup.find_all(\"img\")"
   ]
  },
  {
   "cell_type": "code",
   "execution_count": 17,
   "id": "48105fd2",
   "metadata": {},
   "outputs": [
    {
     "data": {
      "text/plain": [
       "21"
      ]
     },
     "execution_count": 17,
     "metadata": {},
     "output_type": "execute_result"
    }
   ],
   "source": [
    "len(image_tags)"
   ]
  },
  {
   "cell_type": "code",
   "execution_count": 18,
   "id": "d3f4fb2f",
   "metadata": {},
   "outputs": [
    {
     "name": "stdout",
     "output_type": "stream",
     "text": [
      "<img alt=\"Google\" class=\"kgJEQe\" src=\"/images/branding/searchlogo/1x/googlelogo_desk_heirloom_color_150x55dp.gif\"/>\n",
      "<img alt=\"\" class=\"yWs4tf\" src=\"https://encrypted-tbn0.gstatic.com/images?q=tbn:ANd9GcRrZNzYQxi1a-qn4UAQIHAseCjJ0_ewPp2-Su3ImZe_cD-HPueyeQFHT6PGxA&amp;s\"/>\n",
      "<img alt=\"\" class=\"yWs4tf\" src=\"https://encrypted-tbn0.gstatic.com/images?q=tbn:ANd9GcQY_R5NSNoZkSlMo3hf86COGJ4fCv0s6Nx4k8uCGkWc6YGOn_m4-rIOQ3GhOhg&amp;s\"/>\n"
     ]
    }
   ],
   "source": [
    "## to check where to start getting image url\n",
    "for i in range(3):\n",
    "    print(image_tags[i])  ## first item was google branding logo(remove)"
   ]
  },
  {
   "cell_type": "code",
   "execution_count": 20,
   "id": "cab9e85a",
   "metadata": {},
   "outputs": [],
   "source": [
    "del image_tags[0]   ## remember indexing starts from 0"
   ]
  },
  {
   "cell_type": "code",
   "execution_count": 21,
   "id": "8c1571c6",
   "metadata": {},
   "outputs": [
    {
     "name": "stdout",
     "output_type": "stream",
     "text": [
      "<img alt=\"\" class=\"yWs4tf\" src=\"https://encrypted-tbn0.gstatic.com/images?q=tbn:ANd9GcRrZNzYQxi1a-qn4UAQIHAseCjJ0_ewPp2-Su3ImZe_cD-HPueyeQFHT6PGxA&amp;s\"/>\n",
      "<img alt=\"\" class=\"yWs4tf\" src=\"https://encrypted-tbn0.gstatic.com/images?q=tbn:ANd9GcQY_R5NSNoZkSlMo3hf86COGJ4fCv0s6Nx4k8uCGkWc6YGOn_m4-rIOQ3GhOhg&amp;s\"/>\n",
      "<img alt=\"\" class=\"yWs4tf\" src=\"https://encrypted-tbn0.gstatic.com/images?q=tbn:ANd9GcS6mPr1g683xgMlTnJfswzPyIjixDUJCLKR_GUOYd43dGj0LB8Uum64r_cOjl4&amp;s\"/>\n"
     ]
    }
   ],
   "source": [
    "## Done check to verify!!!\n",
    "for i in range(3):\n",
    "    print(image_tags[i])  ## first item was google branding logo(remove)"
   ]
  },
  {
   "cell_type": "code",
   "execution_count": 22,
   "id": "47f03adf",
   "metadata": {},
   "outputs": [
    {
     "data": {
      "text/plain": [
       "[<img alt=\"\" class=\"yWs4tf\" src=\"https://encrypted-tbn0.gstatic.com/images?q=tbn:ANd9GcRrZNzYQxi1a-qn4UAQIHAseCjJ0_ewPp2-Su3ImZe_cD-HPueyeQFHT6PGxA&amp;s\"/>,\n",
       " <img alt=\"\" class=\"yWs4tf\" src=\"https://encrypted-tbn0.gstatic.com/images?q=tbn:ANd9GcQY_R5NSNoZkSlMo3hf86COGJ4fCv0s6Nx4k8uCGkWc6YGOn_m4-rIOQ3GhOhg&amp;s\"/>,\n",
       " <img alt=\"\" class=\"yWs4tf\" src=\"https://encrypted-tbn0.gstatic.com/images?q=tbn:ANd9GcS6mPr1g683xgMlTnJfswzPyIjixDUJCLKR_GUOYd43dGj0LB8Uum64r_cOjl4&amp;s\"/>,\n",
       " <img alt=\"\" class=\"yWs4tf\" src=\"https://encrypted-tbn0.gstatic.com/images?q=tbn:ANd9GcS6Ati5W_eLUHgusJezxxmtEJTT0Jdx0t4a5Ot2Kuh-mEnTRWxzXhTwIbR-dw&amp;s\"/>,\n",
       " <img alt=\"\" class=\"yWs4tf\" src=\"https://encrypted-tbn0.gstatic.com/images?q=tbn:ANd9GcTnUpouHg-rUxr-Z9c8PesJeyZU7RNznHy-z_qQb1DG8IVkXISzuTT8lYvG_e4&amp;s\"/>,\n",
       " <img alt=\"\" class=\"yWs4tf\" src=\"https://encrypted-tbn0.gstatic.com/images?q=tbn:ANd9GcRThVEcgJFh-LRjxdzI61oQ4-7L8-2BUtN3mLxRZQukERPkkvuEAqG8pAH4lGA&amp;s\"/>,\n",
       " <img alt=\"\" class=\"yWs4tf\" src=\"https://encrypted-tbn0.gstatic.com/images?q=tbn:ANd9GcTA8svYe-7gXEXA60iRnj43x7j18Wmz8Gd1817T0GaWazoWxGvhne9YgZDzRg&amp;s\"/>,\n",
       " <img alt=\"\" class=\"yWs4tf\" src=\"https://encrypted-tbn0.gstatic.com/images?q=tbn:ANd9GcSpjqyCf8tAsHbWLT-ql7CNw-T21RApz3utuErU7WITVx8UCdH3lZ_q-HCA1A&amp;s\"/>,\n",
       " <img alt=\"\" class=\"yWs4tf\" src=\"https://encrypted-tbn0.gstatic.com/images?q=tbn:ANd9GcQvRZ9BXapCR1eongbzXiGY2_MMU55bSZsoU95iRk2tHcp4uPpyktZ6gbBm-Q&amp;s\"/>,\n",
       " <img alt=\"\" class=\"yWs4tf\" src=\"https://encrypted-tbn0.gstatic.com/images?q=tbn:ANd9GcSgI6sh1sUcQM-yI8b-pG3s5EXx7AGVI11VCNEtlfFPyR-LkAEVCKybxEF3_Q&amp;s\"/>,\n",
       " <img alt=\"\" class=\"yWs4tf\" src=\"https://encrypted-tbn0.gstatic.com/images?q=tbn:ANd9GcQVh9Pj1g_JNFY8Z4_Nf_8Dfka8BVtRfsLMt2q-z8uivZN94et8BnJR9u6wNQ&amp;s\"/>,\n",
       " <img alt=\"\" class=\"yWs4tf\" src=\"https://encrypted-tbn0.gstatic.com/images?q=tbn:ANd9GcRLJ1vDJtATKnapF2lfX-jts26QmVoFqRUs5udl66RRnyucR-XR9IRtI_sGTA&amp;s\"/>,\n",
       " <img alt=\"\" class=\"yWs4tf\" src=\"https://encrypted-tbn0.gstatic.com/images?q=tbn:ANd9GcRxf-Jbkdb6IZIh7oNtWyJhYtw3Kg80gamyGyRHZS8klkCrAzThS_D2ymM47A&amp;s\"/>,\n",
       " <img alt=\"\" class=\"yWs4tf\" src=\"https://encrypted-tbn0.gstatic.com/images?q=tbn:ANd9GcTUzLWYXh__L8oPsNGf4qYrfxeSuYuHosoUdfSEgEIvF9wIWScbAQVGKDWVXg&amp;s\"/>,\n",
       " <img alt=\"\" class=\"yWs4tf\" src=\"https://encrypted-tbn0.gstatic.com/images?q=tbn:ANd9GcQdOp3ZpYbou1yMlj2sgHy7eCNp2ua5Hj2PFAONLM8ppB9TWUPsy644Z0PaXP0&amp;s\"/>,\n",
       " <img alt=\"\" class=\"yWs4tf\" src=\"https://encrypted-tbn0.gstatic.com/images?q=tbn:ANd9GcTtX7FeZsRL8LjgIshh_tdjRV3TEn1l2VXI6e9xT6FxFeTHJoSq2EomyU-7PIs&amp;s\"/>,\n",
       " <img alt=\"\" class=\"yWs4tf\" src=\"https://encrypted-tbn0.gstatic.com/images?q=tbn:ANd9GcQ5a5ISD3XxnPLqDKAgLZdh2IMLghZ5OmFHrTh7GfhWsIp1FfW7QULotXH16A&amp;s\"/>,\n",
       " <img alt=\"\" class=\"yWs4tf\" src=\"https://encrypted-tbn0.gstatic.com/images?q=tbn:ANd9GcQVZM30e1gWmOjcaNb5csU2wOgBt5Es32BU1tQKcHRKb9pxQU-1iJAzHGeilw&amp;s\"/>,\n",
       " <img alt=\"\" class=\"yWs4tf\" src=\"https://encrypted-tbn0.gstatic.com/images?q=tbn:ANd9GcTjy8AlFwCukvekmmnTHe87WS4K5cr8Pcb4xdDmZzGEfXYp8JTNQGPdrtaQlIE&amp;s\"/>,\n",
       " <img alt=\"\" class=\"yWs4tf\" src=\"https://encrypted-tbn0.gstatic.com/images?q=tbn:ANd9GcTEZ65f9kJG_OymrC9Q-WaxxpPNgHt1SmEn96rBYancpja9TzOcJBwa-VGgVCM&amp;s\"/>]"
      ]
     },
     "execution_count": 22,
     "metadata": {},
     "output_type": "execute_result"
    }
   ],
   "source": [
    "image_tags\n"
   ]
  },
  {
   "cell_type": "code",
   "execution_count": 27,
   "id": "8689894a",
   "metadata": {},
   "outputs": [
    {
     "name": "stdout",
     "output_type": "stream",
     "text": [
      "<class 'bs4.element.Tag'>\n"
     ]
    }
   ],
   "source": [
    "print(type(image_tags[1]))"
   ]
  },
  {
   "cell_type": "code",
   "execution_count": 28,
   "id": "628b4f24",
   "metadata": {},
   "outputs": [
    {
     "name": "stdout",
     "output_type": "stream",
     "text": [
      "<class 'str'>\n"
     ]
    }
   ],
   "source": [
    "print(type(image_tags[1][\"src\"]))"
   ]
  },
  {
   "cell_type": "code",
   "execution_count": 26,
   "id": "82a12a81",
   "metadata": {},
   "outputs": [
    {
     "data": {
      "text/plain": [
       "'https://encrypted-tbn0.gstatic.com/images?q=tbn:ANd9GcQY_R5NSNoZkSlMo3hf86COGJ4fCv0s6Nx4k8uCGkWc6YGOn_m4-rIOQ3GhOhg&s'"
      ]
     },
     "execution_count": 26,
     "metadata": {},
     "output_type": "execute_result"
    }
   ],
   "source": [
    "# extract the url, has tag src!!!\n",
    "image_tags[1][\"src\"]   ## This link pick out item of list"
   ]
  },
  {
   "cell_type": "code",
   "execution_count": 33,
   "id": "81542f78",
   "metadata": {},
   "outputs": [
    {
     "data": {
      "text/plain": [
       "b'\\xff\\xd8\\xff\\xe0\\x00\\x10JFIF\\x00\\x01\\x01\\x00\\x00\\x01\\x00\\x01\\x00\\x00\\xff\\xdb\\x00\\x84\\x00\\t\\x06\\x07\\x08\\x07\\x06\\t\\x08\\x07\\x08\\n\\n\\t\\x0b\\r\\x16\\x0f\\r\\x0c\\x0c\\r\\x1b\\x14\\x15\\x10\\x16 \\x1d\"\" \\x1d\\x1f\\x1f$(4,$&1\\'\\x1f\\x1f-=-157:::#+?D?8C49:7\\x01\\n\\n\\n\\r\\x0c\\r\\x1a\\x0f\\x0f\\x1a7%\\x1f%77777777777777777777777777777777777777777777777777\\xff\\xc0\\x00\\x11\\x08\\x00u\\x00\\xa2\\x03\\x01\"\\x00\\x02\\x11\\x01\\x03\\x11\\x01\\xff\\xc4\\x00\\x1c\\x00\\x00\\x01\\x05\\x01\\x01\\x01\\x00\\x00\\x00\\x00\\x00\\x00\\x00\\x00\\x00\\x00\\x00\\x01\\x02\\x03\\x04\\x05\\x06\\x07\\x08\\xff\\xc4\\x00?\\x10\\x00\\x01\\x03\\x02\\x04\\x01\\x06\\x0c\\x04\\x05\\x05\\x01\\x00\\x00\\x00\\x00\\x01\\x00\\x02\\x03\\x04\\x11\\x05\\x12!1A\\x06\\x13Qaq\\xb1\\x07\\x14\"#23Bbs\\x81\\x91\\xa14Rc\\xc1$DSr\\xd1%5\\x92\\xd2\\xf0\\x15\\xff\\xc4\\x00\\x19\\x01\\x00\\x03\\x01\\x01\\x01\\x00\\x00\\x00\\x00\\x00\\x00\\x00\\x00\\x00\\x00\\x00\\x00\\x01\\x03\\x02\\x04\\x05\\xff\\xc4\\x00&\\x11\\x00\\x02\\x02\\x01\\x03\\x04\\x02\\x02\\x03\\x00\\x00\\x00\\x00\\x00\\x00\\x00\\x00\\x01\\x02\\x11\\x03!2A\\x12#1\\x81Bq3a\"Q\\xc1\\xff\\xda\\x00\\x0c\\x03\\x01\\x00\\x02\\x11\\x03\\x11\\x00?\\x00\\xf0\\xf6\\xb4\\xb9\\xc1\\xad\\x17\\'@\\x11#\\x1d\\x1b\\xcb\\x1e\\xd2\\xd74\\xd8\\x83\\xc1:\\x9c\\xe5\\x9e3\\xd0\\xe1\\xde\\xadcZb\\xb5?\\x10\\xa5z\\xd1\\xaa\\xfe6R\\t\\xf2E$lc\\x9e\\xd2\\x03\\xc5\\xdazBhZ8\\x97\\xe00\\xf3\\xfag\\xbd&\\xe9\\xa4\\n6\\x9b3T\\x91\\xc3$\\x91\\xbd\\xec\\x17k\\x05\\xdd\\xd4\\xa3ZXq\\x1e%\\\\-\\xaeA\\xde\\x89:V\\x10V\\xe8\\xce\\xb5\\xd3\\xe0\\x85\\xf3\\xc9\\x921w$j\\xb7\\x87f\\x8eS6G9\\xac\\xd0\\x81\\xd7\\xb2rn\\x82)6Ss\\x0b\\\\\\xe6\\xbbB\\r\\x8aK.\\x82\\x0c?W\\xccDOs\\xee\\xe0\\xe3\\xad\\xba4Y\\xb5\\xed\\x95\\xd2y\\xe8\\xd8\\xd7\\x00}\\x06\\x81\\xf5E\\x83\\x89B\\xc9\\xd9J\\x9cB\\xdem\\xaenl\\xc7\\xa7d\\xc7\\xf4&*\\x1a\"q\\x8f8\\xb5\\xafd\\xcc\\xa5Y\\x81\\x86H\\xdf\\xd0\\xc6\\x97\\x15\\x08\\xdc\\xa5c\\xa4X\\xa0\\xc3\\xa4\\xac\\xac\\x8a\\x99\\x8ek].\\xc4\\xec\\x11\\xe2\\x12\\x19g\\x8f3o\\x0b\\x88wZ\\xd1\\xe4\\xd3\\xbf\\xd7\\xa8\\x8fj\\x89\\xef\\xb5}\\x7f\\x0b\\xc8\\xee\\xf2\\xa2\\xf2K\\xad\\xc7\\xf4UB=)\\xfe\\xcc\\xb1\\x192\\x06\\\\^\\xf6W\\xf1\\\\%\\xf8uLP\\xbeV\\xbc\\xc9\\x18\\x90\\x10:U&\\xfe$\\x7fx]\\x0f+]z\\xfa\\'Z\\xdf\\xc359d\\x92\\xc9\\x18\\xaelQ\\x82po\\xe8\\xe6\\xa4ac\\xacM\\xd3\\x14\\xd5\\x07\\xcbQ*\\xa2LD!\\t\\x88sM\\x9c\\x0fAW1\\x9dq:\\x83\\xef\\xfe\\xca\\x92\\xb3\\x89\\x1b\\xd6\\xcazm\\xdc\\x93\\xdck\\xe2W\\n\\xfdq\\xcd\\x87\\xd0\\xf54\\x8f\\xba\\xcfWj\\x9d|:\\x93\\xab2\\xcc\\xbc\\xa1\\xc7\\xc3)-\\x1c7\\xf0\\xb5\\xdf\\rg\\xad\\x0c3\\xd4V\\x0f\\xd2FM\\xa3\\xc7\\xb8\\xa3\\x13\\x83d\\x04\\xf0+s\\x08\\x13bU\\x8d\\xc3\\xb0\\xf0\\xe3QTC\\x19m8\\xde\\xe7\\xa8\\x0b\\xdf\\xaa\\xeb\\r\\xba\\xafK\\xf0\\x1f\\x87E&3U\\x88N\\xf6\\xb4\\xc5\\x11\\x8a\\x0c\\xdc^uu\\xbb\\x1b\\xdf\\xda\\x9c\\x97#\\xc7wG_A\\xc8\\x1c#\\x0b\\xc1\\xe3\\x8a\\xa2\\x9cU\\xd4\\x91w\\xcc\\xfd\\xc9\\xe3n\\x80\\xb9<o\\x93X[\\\\\\xec\\x82H\\x00\\xe0\\xd7h\\xbdS\\x1f\\xc4i\\xe8\\xe9\\xdb\\xe3\\x15\\x10\\xb4\\x91\\xa3K\\xc0\\'\\xb1p\\xf8\\xbc\\x94\\xb5L21\\xecx\\xb7\\x02\\xb9\\xaeI\\xdd\\x9e\\x82\\x8c:j\\x8f;\\x97\\x0bm#\\x9b<\\xber\\x9c8\\xf9.\\x1a\\x9f\\xf2\\xb9\\xfa\\xa9\\x03\\xe5q\\r\\r\\x1c\\x07B\\xdd\\xe55T\\xaep\\x84\\xdc\\xc4\\x0f\\x92A\\\\\\xeb\\x9d\\xd2\\x17L<jy\\xd94z\\x16h\\xa5\\x11\\xc5R\\r\\x8ex\\x88\\n\\xb3x\\xa1\\x8e-\\xbe\\xbc\\x08H\\xde)\\xd6\\xa6oJ5y6\\xebc\\x94w\\xfc\\xca*\\x83lB\\xb7\\xe2\\xbb\\xbd/\\'\\xdd\\x97\\x18\\xa5>\\xfa\\x8e\\xac\\xdb\\x10\\xab\\xf8\\xae\\xefPk\\xb8\\xfe\\xbf\\xd2\\xc9\\xf6\\xd7\\xd9U\\xbe\\xbc\\x1fyn\\xf2\\xad\\xc5\\xd5TF\\xdf\\xcb\\x05\\x82\\xd3\\xe7\\x81\\xf7\\x82\\xda\\xe5)\\xbc\\xd4F\\xe4\\xf9\\x8b\"k\\xb9\\x1fa\\x07\\xdb\\x97\\xa3\\x12s\\xe5\\xa8\\xd3\\xe5\\xd4\\xa8\\xd5\\xd1\\x06*D!1\\n\\xa7\\xac\\xd6bz@\\xeeP)j\\r\\xde\\x0f\\xba\\x12\\xe4|\\x11+S\\x9f\\xe0)\\xfa\\x8b\\x95n\\n\\xcc\\x9a\\xd0\\xc5\\xd4\\xe2\\x93\\xe0\\xd2\\xf0\\xca\\xdc\\x16\\x8e\\x19\\xea\\xaa\\xba\\xe2Y\\xca\\xf6\\x1at\\xa8\\x1f\\xa4R\\xc9\\xb4p\\xdcSb\\xf5\\xcf\\x04l\\x9a\\x87\\x93x\\x86\\'QP\\xe8\\xe8|c\\xc9\\x8c\\x01\\xe5\\x16\\x81wu\\xf0\\x1f#\\xf2\\xf2F\\xee\\xbd\\x87\\x91\\x14\\x8c\\xc6\\xfc\\x1a\\x1c>:\\xc6\\xd2\\x91Q#^\\xe74\\x10N`\\xebn4\\xb1\\x1cQ7\\xa1L\\n\\xe6j\\xe0R\\xd5cp\\xd5\\xd6\\xb9\\xed\\x11\\xcb#\\xf2\\xb7\\x9bk\\xae\\xdby\"\\xe7mI+\\x12\\xa7\\x084q\\xcdUT\\xf8\\xd8\\xe0m\\xe6\\xf6w\\xc9t|\\x9c\\x82<\\x1a\\x86zgL\\xc7\\x0b\\xdc5\\xa2\\xcdi\\xb0\\x06\\xddW\\xb9\\xf9\\xaeC\\x1f\\xac\\x96\\xad\\xb5Q\\xb5\\xa4\\x06\\xdc9\\xce\\xe1\\xd8\\xa1|\\x1d\\xd2\\x8a\\xab8\\xbcrfJK\\x9a\\xeb\\xdd\\xdb\\x05\\x9d\\xe2Y\\x9a\\xe2\\x1cK\\xc5\\xf2\\xb47GX\\\\\\xeb\\xd8\\x865\\xcf\\x7f4.\\xef+n\\xc5v\\xb2\\xa4QP\\xd3\\xd2B2\\xce\\xc7=\\xf2I\\xa16{@\\x00t\\x0c\\xb7\\xd3\\xa5\\xc7\\xa1]\\x7fG\\x9f*v\\xd9\\x8awJ4A\\xecJ\\x00;\\x95B%\\xcc\\x1c\\xdb\\x12\\xa5#\\xf3\\x84V\\xe9\\x88U|C\\xde\\x9b\\x85\\x9bb4\\xe7\\xdf\\tk\\xbf\\xdc*~!Q\\x7f\\x93\\xd1k\\xed\\xfb*\\x8fZ\\xde\\xd5\\xb1\\xca\\x03sE\\xf0\\x7fu\\x90=c{V\\xae;\\xb5!?\\xd3\\xfd\\xd2\\x97\\xe4\\x8f\\xb1\\xc7d\\x8c\\x89\\x13\\x13\\xde\\xa3VDX!\\x08@\\x85Ny\\xbd\\xbb\\x13P\\x80\\x0e\\n\\xd1\\xd6\\x85\\x9f\\xdeUn\\n\\xcf\\xf2M\\x1e\\xf9Y\\x91\\xa8\\x95\\xce\\xea\\xe6\\x1b\\xe9\\xcc?L\\xaaguk\\x0f\\xbey,m\\xe4\\x14Ki\\xa8\\xf9+\\xb7p\\xbd_\\xc1\\x14\\xb0W`\\xb8\\x86\\x1b3X\\x1fM?<\\xd79\\xa1\\xd7\\x12\\x00-c\\xd7\\x1f\\xddy@\\xddi\\xe0U\\xf8\\x86\\x19[\\xcfa\\xf3:\\'<ep\\x1b<t\\x11\\xc4!\\xabC\\x84\\xfa$\\x99\\xeb\\xb1\\xd3\\xd1\\xe1\\x92\\xcfS1i\\xb0\\xd1\\xa4\\xd8;\\xaa\\xc3E\\xcb\\xe2\\xd5\\xa1\\xfc\\xf3sft\\xa71\\xca6\\xea\\xee[m\\xe4\\xf5N7\\x87EW\\x0c\\xe1\\xd3:\\x9a\\n\\x87\\xc2\\xe7\\x1b\\xb4H\\xc0\\xe0[\\xd2/\\x98k\\xf9V5N\\r]M!a\\x8d\\xa4\\xf4\\xdf^\\xe5\\x15\\ru;\\x1eN\\xa5\\xa1\\xc4KI4\\x0et\\xa4\\x96\\xb8\\x92@\\x06\\xc4,\\xc7\\x82\\t\\xfb\\xafC8,\\xa4\\xf9\\xd6\\xb6\\xce\\xbe\\xc6\\xeb\\x98\\xe5\\x16\\x160\\xb2\\xc6\\xb9\\xcd2L\\xcep7\\x8bY{6\\xfd\\xba\\x9e\\xcbt\\xab\\xc4\\xe4\\xc9\\x1aV`\\x93\\xa5\\x88H\\x8b%\\xd9h\\x89%4\\xdc\\xcdDr[\\xd0p*J\\x89[5T\\xb27g\\xb8\\x90\\xaa\\xa7\\xc6\\xb2\\xd2\\xbb4\\x9e\\x94/\\xb6;V\\x9e4|\\x8a]}\\x82\\xb3\\x07\\xa6\\x16\\x8e.o\\x1d)\\xf7J\\x9c\\xb7D\\xa4v\\xb35\\xc5F\\x9e\\xe4\\xc5RL\\x10\\x84 B\\x84\\x14%L\\x04V\\x07\\xe1m\\xef\\xaa\\xeav\\xfe\\x1c\\xff\\x00r\\xcc\\x8dD\\x8e\\xc4\\xec.\\xac\\xd31\\xec%\\xc0n-d\\xeax\\xb5\\x8f\\xde\\xba\\xd2d-h\\xbf\\x15\\xa5\\x1bB\\xb2\\x8cT\\x84[\\xc9\\xfa\\xab\\xf4q5\\x97w\\xb5\\xdc\\x9c\\xd0\\x089\\x87\\x14\\xe8[\\x90<\\xf0\\xb5\\xd6\\xd2\\x11\\xeb\\xbc\\x9f\\x15?\\xfc\\x9c\\x02\\xa3\\r{\\rL8\\\\l\\x9e\\x99\\xe6\\xde1\\x19\\xb9ha\\xfc\\xcd\\x1a\\xed\\xedu\\xa9\\xe0\\x92\\x9b\\x15\\xad\\x022\\x04\\xc7\\xd8v\\x85ix=\\xa7\\x8a~J\\xe1\\xd5\\xae\\x8f4\\xf1F\\xd66\\xe3P\\xc640\\x01\\xd7a~\\xd5k\\x1f\\xc2\\xa90\\xcf\\x16\\xc5\\xf0\\xf8\\xbc\\xe3\\xea\\x1a&m\\xc9\\x0e\\xcf\\xc6\\xdc\\r\\xcf\\xddK.?\\x92:1d\\xf8\\xc8\\xe7\\xaah\\xa2\\x8d\\xf2\\xc9Q\\x19<\\xd8ql \\x80e z#\\xa0\\x13\\xa5\\xd7\\x8ar\\x82\\xb2z\\xfa\\xa9k*\\x8d\\xe6\\x9d\\xe5\\xee\\x16\\xb0h\\xe0\\x00\\xe0\\x06\\xc0t\\x05\\xee\\xbc\\xae\\x89\\xf4\\x18\\xac5\\x0f\\xd6Y\"\\r\\x89\\x9c\\x1a5\\xd4\\xf5\\xdc\\x95\\xe3\\\\\\xb6\\x8a\\x08yI[MNC\\xdb\\x14\\x99\\x1e\\xe6\\xed\\xce\\x0fN\\xddY\\xb3*F)D\\x96I\\xb9H\\xe7!\\xf5\\x82\\xfcT\\xcf\\x84\\x11p\\x9ab, \\x93\\xb1\\xe0\\xa4\\xccl\\xe3\\xc0\\x14\\x18)\\xbd\\xa5\\xa6\\xc9cV\\x1c\\x03\\x85\\xd4.\\x01\\xa2\\xfcIYhho\\xb4\\xafb>\\xaa\\x0e\\xc2\\xb3\\xee\\xa4t\\xce{C^v\\xd9a\\xc7T\\xcd\\xa9h\\xd0\\xc7&\\'\\x94\\x8dm\\xd6\\x8c\\rB\\x93\"\\x10\\x141\\t\\x12\\xa0@\\xa6g\\xab\\xb7\\xbc\\xa2\\xb6\\x8aza{\\x0e\\xb4y\\x1a4\\x9a\\xd0\\xd9\\xa9\\x80\\xe8=\\xca\\xe8\\xd9V#\\xce\\xd3\\xf5^\\xff\\x00\\xf1V@\\xd1PC\\x0e\\x80\\xf6\\xa9\\xe8\\x9a\\xc9\\x1d$ovW\\xba7sw\\xb5\\x8b\\xb7\\x00\\xf5\\x1d~vP\\x91pBsE\\xa1\\x91\\xc3p\\xd3d\\x01\\xee>\\n*\\xb9\\xdeH\\xd3\\xc4\\x0b\\xc9\\xa6{\\xa2/s\\x0bC\\xacz\\xfbV\\xd6!YT\\xf9\\xe5\\xa6\\xa2kD\\x103<\\xb3\\x16\\x87dp\\xf2\\x80h<o\\xf4\\\\\\xef\\x82V\\xdb\\x920\\x96:\\xe2I\\t\\xccM\\xeel3}\\xee>K\\xb0||\\xd42\\x98\\x86\\xe4|\\xc9p\\'\\xbc\\xad\\xa5\\xa0\\x99\\x83\\x89\\xd2\\xd1a\\xb4\\xb58\\xc5s\\x9fU-,N\\x93\\x9c\\x9d\\xf9\\xaeZ.,6\\xdf\\xa9|\\xe2\\xf9d\\xaa\\xaa\\x96y]\\x9aI\\x1e^\\xe3\\xd2\\xe2nO\\xd4\\xaff\\xf0\\xd5\\x8b6\\x8b\\x01\\x83\\x0b\\x84\\x9er\\xbaK\\xbe\\xdf\\xd3a\\x07\\xee\\xeb}\\n\\xf1\\x98\\x80kn\\xb3 D\\x13\\xb8\\xe6\\x03\\x89;$\\x94\\xe5cZ8\\x04\\xd2s\\xcc_\\xc3\\x82d\\xa6\\xeb#\\x06\\x92FQ\\xb9\\xd0&L\\xeb\\xbe\\xc3f\\xe8\\x12\\xc2r\\xbf7\\xe5\\x04\\x8e\\xd5\\x19I\\x80\\x88B\\x12\\x00;%\\x06\\xc1!\\xd9+R\\x00\\xccP\\x92\\xc8@\\xc4J\\x91*\\x04/\\x05o\\x0fm\\xe6\\x1d\\x17\\xba\\xa6\\xb4p\\xb6\\xea^v\\t\\xa04\\x00\\xbc\\xcc\\xb9\\xd4\\\\\\x8f\\xa5\\x95\\x967EJ9G\\x8d\\x86\\x9fi\\xb6\\x17\\xff\\x00\\xddJ\\xfb-m\\xd6\\xc0am\\x8ay\\x03#\\xc7\\x02\\xd4\\x93\\x8c\\xac\\x0e\\xbaJc\\x9a7\\x03\\xbd\\xbe\\xc8\\x03\\xd8<\\x0cI\\xcerN8\\xef\\xe8\\xc9k|\\x87\\xf8]\\xa4/\\x91\\xd05\\x937-\\xea\\x1e\\x06\\xbe\\x93E\\xc8\\xfb\\xdbN\\xa5\\xe6\\x1e\\x03*\\x8f9=&\\xbb\\x1f\\xa3o\\xff\\x00e\\xdf\\xf2\\xcb\\x13\\x18.\\x13S\\\\\\xd2\\x01\\xa5\\xa5\\x91\\xe2\\xfbs\\x8e-l\\x7f{\\xad\\xde\\x82\\xe4\\xf0\\xcf\\t\\xf8\\xc0\\xc69cTcq0R\\x1f\\x15\\x8c_O \\x90\\xe3\\xf3vo\\xb2\\xe5\\xa56nQ\\xdaP\\\\\\xe78\\xbd\\xe4\\xbd\\xce;\\x9d\\xc9\\xe9I%\\x9a\\xcc\\xbb\\xdfr\\xa62\\xb96\\x1a(\\xce\\xc5))\\x0e\\xd7@\\x11\\xedt\\x89JE\\x90\\x04!\"\\x00R\\x80\\x91\\t\\x00\\xf4&!\\x03\\xb1P\\x84& Z\\xd8sG4A\\xda\\xd7H\\x84\\xd0\\x15\\x99;\\x9d[\\x1b\\xce\\xf9\\xc0]\\x04{\\x1e\\xc4\\xa8Z\\x01\\xb5^\\x85\\xba\\x94t\\xe6\\xceh\\xe0tB\\x13\\x03\\xb9\\xf0\\x1e\\xe2\\xdeUb,\\x1b\\x08\\x9cG\\xd4-\\x8f\\x0e\\x98\\x8c\\xd1RS\\xd02\\xc2)\\x9e\\x0b\\xcfNQp>\\xaf\\xfb!\\t\\xf0.O\\x19\\xa6\\x19\\xa7u\\xfd\\x81a\\xf3QT\\xbb\\xcbp\\x1a\\x00\\x84,\\x0c\\xacJiq(B@5\\x08B@\\x08B\\x10\\x02!\\x08H\\x01\\x08B\\x00\\xff\\xd9'"
      ]
     },
     "execution_count": 33,
     "metadata": {},
     "output_type": "execute_result"
    }
   ],
   "source": [
    "content = requests.get(image_tags[1][\"src\"]).content\n",
    "content\n",
    "## below is the content of the url"
   ]
  },
  {
   "cell_type": "code",
   "execution_count": 40,
   "id": "18fb749e",
   "metadata": {},
   "outputs": [
    {
     "data": {
      "text/plain": [
       "1"
      ]
     },
     "execution_count": 40,
     "metadata": {},
     "output_type": "execute_result"
    }
   ],
   "source": [
    "image_tags.index(image_tags[0])"
   ]
  },
  {
   "cell_type": "code",
   "execution_count": 42,
   "id": "67ba40c9",
   "metadata": {},
   "outputs": [
    {
     "ename": "ConnectionError",
     "evalue": "HTTPSConnectionPool(host='encrypted-tbn0.gstatic.com', port=443): Max retries exceeded with url: /images?q=tbn:ANd9GcQVZM30e1gWmOjcaNb5csU2wOgBt5Es32BU1tQKcHRKb9pxQU-1iJAzHGeilw&s (Caused by NewConnectionError('<urllib3.connection.HTTPSConnection object at 0x000001E4A11B8610>: Failed to establish a new connection: [WinError 10060] A connection attempt failed because the connected party did not properly respond after a period of time, or established connection failed because connected host has failed to respond'))",
     "output_type": "error",
     "traceback": [
      "\u001b[1;31m---------------------------------------------------------------------------\u001b[0m",
      "\u001b[1;31mTimeoutError\u001b[0m                              Traceback (most recent call last)",
      "File \u001b[1;32m~\\anaconda3\\lib\\site-packages\\urllib3\\connection.py:174\u001b[0m, in \u001b[0;36mHTTPConnection._new_conn\u001b[1;34m(self)\u001b[0m\n\u001b[0;32m    173\u001b[0m \u001b[38;5;28;01mtry\u001b[39;00m:\n\u001b[1;32m--> 174\u001b[0m     conn \u001b[38;5;241m=\u001b[39m connection\u001b[38;5;241m.\u001b[39mcreate_connection(\n\u001b[0;32m    175\u001b[0m         (\u001b[38;5;28mself\u001b[39m\u001b[38;5;241m.\u001b[39m_dns_host, \u001b[38;5;28mself\u001b[39m\u001b[38;5;241m.\u001b[39mport), \u001b[38;5;28mself\u001b[39m\u001b[38;5;241m.\u001b[39mtimeout, \u001b[38;5;241m*\u001b[39m\u001b[38;5;241m*\u001b[39mextra_kw\n\u001b[0;32m    176\u001b[0m     )\n\u001b[0;32m    178\u001b[0m \u001b[38;5;28;01mexcept\u001b[39;00m SocketTimeout:\n",
      "File \u001b[1;32m~\\anaconda3\\lib\\site-packages\\urllib3\\util\\connection.py:95\u001b[0m, in \u001b[0;36mcreate_connection\u001b[1;34m(address, timeout, source_address, socket_options)\u001b[0m\n\u001b[0;32m     94\u001b[0m \u001b[38;5;28;01mif\u001b[39;00m err \u001b[38;5;129;01mis\u001b[39;00m \u001b[38;5;129;01mnot\u001b[39;00m \u001b[38;5;28;01mNone\u001b[39;00m:\n\u001b[1;32m---> 95\u001b[0m     \u001b[38;5;28;01mraise\u001b[39;00m err\n\u001b[0;32m     97\u001b[0m \u001b[38;5;28;01mraise\u001b[39;00m socket\u001b[38;5;241m.\u001b[39merror(\u001b[38;5;124m\"\u001b[39m\u001b[38;5;124mgetaddrinfo returns an empty list\u001b[39m\u001b[38;5;124m\"\u001b[39m)\n",
      "File \u001b[1;32m~\\anaconda3\\lib\\site-packages\\urllib3\\util\\connection.py:85\u001b[0m, in \u001b[0;36mcreate_connection\u001b[1;34m(address, timeout, source_address, socket_options)\u001b[0m\n\u001b[0;32m     84\u001b[0m     sock\u001b[38;5;241m.\u001b[39mbind(source_address)\n\u001b[1;32m---> 85\u001b[0m \u001b[43msock\u001b[49m\u001b[38;5;241;43m.\u001b[39;49m\u001b[43mconnect\u001b[49m\u001b[43m(\u001b[49m\u001b[43msa\u001b[49m\u001b[43m)\u001b[49m\n\u001b[0;32m     86\u001b[0m \u001b[38;5;28;01mreturn\u001b[39;00m sock\n",
      "\u001b[1;31mTimeoutError\u001b[0m: [WinError 10060] A connection attempt failed because the connected party did not properly respond after a period of time, or established connection failed because connected host has failed to respond",
      "\nDuring handling of the above exception, another exception occurred:\n",
      "\u001b[1;31mNewConnectionError\u001b[0m                        Traceback (most recent call last)",
      "File \u001b[1;32m~\\anaconda3\\lib\\site-packages\\urllib3\\connectionpool.py:703\u001b[0m, in \u001b[0;36mHTTPConnectionPool.urlopen\u001b[1;34m(self, method, url, body, headers, retries, redirect, assert_same_host, timeout, pool_timeout, release_conn, chunked, body_pos, **response_kw)\u001b[0m\n\u001b[0;32m    702\u001b[0m \u001b[38;5;66;03m# Make the request on the httplib connection object.\u001b[39;00m\n\u001b[1;32m--> 703\u001b[0m httplib_response \u001b[38;5;241m=\u001b[39m \u001b[38;5;28;43mself\u001b[39;49m\u001b[38;5;241;43m.\u001b[39;49m\u001b[43m_make_request\u001b[49m\u001b[43m(\u001b[49m\n\u001b[0;32m    704\u001b[0m \u001b[43m    \u001b[49m\u001b[43mconn\u001b[49m\u001b[43m,\u001b[49m\n\u001b[0;32m    705\u001b[0m \u001b[43m    \u001b[49m\u001b[43mmethod\u001b[49m\u001b[43m,\u001b[49m\n\u001b[0;32m    706\u001b[0m \u001b[43m    \u001b[49m\u001b[43murl\u001b[49m\u001b[43m,\u001b[49m\n\u001b[0;32m    707\u001b[0m \u001b[43m    \u001b[49m\u001b[43mtimeout\u001b[49m\u001b[38;5;241;43m=\u001b[39;49m\u001b[43mtimeout_obj\u001b[49m\u001b[43m,\u001b[49m\n\u001b[0;32m    708\u001b[0m \u001b[43m    \u001b[49m\u001b[43mbody\u001b[49m\u001b[38;5;241;43m=\u001b[39;49m\u001b[43mbody\u001b[49m\u001b[43m,\u001b[49m\n\u001b[0;32m    709\u001b[0m \u001b[43m    \u001b[49m\u001b[43mheaders\u001b[49m\u001b[38;5;241;43m=\u001b[39;49m\u001b[43mheaders\u001b[49m\u001b[43m,\u001b[49m\n\u001b[0;32m    710\u001b[0m \u001b[43m    \u001b[49m\u001b[43mchunked\u001b[49m\u001b[38;5;241;43m=\u001b[39;49m\u001b[43mchunked\u001b[49m\u001b[43m,\u001b[49m\n\u001b[0;32m    711\u001b[0m \u001b[43m\u001b[49m\u001b[43m)\u001b[49m\n\u001b[0;32m    713\u001b[0m \u001b[38;5;66;03m# If we're going to release the connection in ``finally:``, then\u001b[39;00m\n\u001b[0;32m    714\u001b[0m \u001b[38;5;66;03m# the response doesn't need to know about the connection. Otherwise\u001b[39;00m\n\u001b[0;32m    715\u001b[0m \u001b[38;5;66;03m# it will also try to release it and we'll have a double-release\u001b[39;00m\n\u001b[0;32m    716\u001b[0m \u001b[38;5;66;03m# mess.\u001b[39;00m\n",
      "File \u001b[1;32m~\\anaconda3\\lib\\site-packages\\urllib3\\connectionpool.py:386\u001b[0m, in \u001b[0;36mHTTPConnectionPool._make_request\u001b[1;34m(self, conn, method, url, timeout, chunked, **httplib_request_kw)\u001b[0m\n\u001b[0;32m    385\u001b[0m \u001b[38;5;28;01mtry\u001b[39;00m:\n\u001b[1;32m--> 386\u001b[0m     \u001b[38;5;28;43mself\u001b[39;49m\u001b[38;5;241;43m.\u001b[39;49m\u001b[43m_validate_conn\u001b[49m\u001b[43m(\u001b[49m\u001b[43mconn\u001b[49m\u001b[43m)\u001b[49m\n\u001b[0;32m    387\u001b[0m \u001b[38;5;28;01mexcept\u001b[39;00m (SocketTimeout, BaseSSLError) \u001b[38;5;28;01mas\u001b[39;00m e:\n\u001b[0;32m    388\u001b[0m     \u001b[38;5;66;03m# Py2 raises this as a BaseSSLError, Py3 raises it as socket timeout.\u001b[39;00m\n",
      "File \u001b[1;32m~\\anaconda3\\lib\\site-packages\\urllib3\\connectionpool.py:1040\u001b[0m, in \u001b[0;36mHTTPSConnectionPool._validate_conn\u001b[1;34m(self, conn)\u001b[0m\n\u001b[0;32m   1039\u001b[0m \u001b[38;5;28;01mif\u001b[39;00m \u001b[38;5;129;01mnot\u001b[39;00m \u001b[38;5;28mgetattr\u001b[39m(conn, \u001b[38;5;124m\"\u001b[39m\u001b[38;5;124msock\u001b[39m\u001b[38;5;124m\"\u001b[39m, \u001b[38;5;28;01mNone\u001b[39;00m):  \u001b[38;5;66;03m# AppEngine might not have  `.sock`\u001b[39;00m\n\u001b[1;32m-> 1040\u001b[0m     \u001b[43mconn\u001b[49m\u001b[38;5;241;43m.\u001b[39;49m\u001b[43mconnect\u001b[49m\u001b[43m(\u001b[49m\u001b[43m)\u001b[49m\n\u001b[0;32m   1042\u001b[0m \u001b[38;5;28;01mif\u001b[39;00m \u001b[38;5;129;01mnot\u001b[39;00m conn\u001b[38;5;241m.\u001b[39mis_verified:\n",
      "File \u001b[1;32m~\\anaconda3\\lib\\site-packages\\urllib3\\connection.py:358\u001b[0m, in \u001b[0;36mHTTPSConnection.connect\u001b[1;34m(self)\u001b[0m\n\u001b[0;32m    356\u001b[0m \u001b[38;5;28;01mdef\u001b[39;00m \u001b[38;5;21mconnect\u001b[39m(\u001b[38;5;28mself\u001b[39m):\n\u001b[0;32m    357\u001b[0m     \u001b[38;5;66;03m# Add certificate verification\u001b[39;00m\n\u001b[1;32m--> 358\u001b[0m     \u001b[38;5;28mself\u001b[39m\u001b[38;5;241m.\u001b[39msock \u001b[38;5;241m=\u001b[39m conn \u001b[38;5;241m=\u001b[39m \u001b[38;5;28;43mself\u001b[39;49m\u001b[38;5;241;43m.\u001b[39;49m\u001b[43m_new_conn\u001b[49m\u001b[43m(\u001b[49m\u001b[43m)\u001b[49m\n\u001b[0;32m    359\u001b[0m     hostname \u001b[38;5;241m=\u001b[39m \u001b[38;5;28mself\u001b[39m\u001b[38;5;241m.\u001b[39mhost\n",
      "File \u001b[1;32m~\\anaconda3\\lib\\site-packages\\urllib3\\connection.py:186\u001b[0m, in \u001b[0;36mHTTPConnection._new_conn\u001b[1;34m(self)\u001b[0m\n\u001b[0;32m    185\u001b[0m \u001b[38;5;28;01mexcept\u001b[39;00m SocketError \u001b[38;5;28;01mas\u001b[39;00m e:\n\u001b[1;32m--> 186\u001b[0m     \u001b[38;5;28;01mraise\u001b[39;00m NewConnectionError(\n\u001b[0;32m    187\u001b[0m         \u001b[38;5;28mself\u001b[39m, \u001b[38;5;124m\"\u001b[39m\u001b[38;5;124mFailed to establish a new connection: \u001b[39m\u001b[38;5;132;01m%s\u001b[39;00m\u001b[38;5;124m\"\u001b[39m \u001b[38;5;241m%\u001b[39m e\n\u001b[0;32m    188\u001b[0m     )\n\u001b[0;32m    190\u001b[0m \u001b[38;5;28;01mreturn\u001b[39;00m conn\n",
      "\u001b[1;31mNewConnectionError\u001b[0m: <urllib3.connection.HTTPSConnection object at 0x000001E4A11B8610>: Failed to establish a new connection: [WinError 10060] A connection attempt failed because the connected party did not properly respond after a period of time, or established connection failed because connected host has failed to respond",
      "\nDuring handling of the above exception, another exception occurred:\n",
      "\u001b[1;31mMaxRetryError\u001b[0m                             Traceback (most recent call last)",
      "File \u001b[1;32m~\\anaconda3\\lib\\site-packages\\requests\\adapters.py:440\u001b[0m, in \u001b[0;36mHTTPAdapter.send\u001b[1;34m(self, request, stream, timeout, verify, cert, proxies)\u001b[0m\n\u001b[0;32m    439\u001b[0m \u001b[38;5;28;01mif\u001b[39;00m \u001b[38;5;129;01mnot\u001b[39;00m chunked:\n\u001b[1;32m--> 440\u001b[0m     resp \u001b[38;5;241m=\u001b[39m \u001b[43mconn\u001b[49m\u001b[38;5;241;43m.\u001b[39;49m\u001b[43murlopen\u001b[49m\u001b[43m(\u001b[49m\n\u001b[0;32m    441\u001b[0m \u001b[43m        \u001b[49m\u001b[43mmethod\u001b[49m\u001b[38;5;241;43m=\u001b[39;49m\u001b[43mrequest\u001b[49m\u001b[38;5;241;43m.\u001b[39;49m\u001b[43mmethod\u001b[49m\u001b[43m,\u001b[49m\n\u001b[0;32m    442\u001b[0m \u001b[43m        \u001b[49m\u001b[43murl\u001b[49m\u001b[38;5;241;43m=\u001b[39;49m\u001b[43murl\u001b[49m\u001b[43m,\u001b[49m\n\u001b[0;32m    443\u001b[0m \u001b[43m        \u001b[49m\u001b[43mbody\u001b[49m\u001b[38;5;241;43m=\u001b[39;49m\u001b[43mrequest\u001b[49m\u001b[38;5;241;43m.\u001b[39;49m\u001b[43mbody\u001b[49m\u001b[43m,\u001b[49m\n\u001b[0;32m    444\u001b[0m \u001b[43m        \u001b[49m\u001b[43mheaders\u001b[49m\u001b[38;5;241;43m=\u001b[39;49m\u001b[43mrequest\u001b[49m\u001b[38;5;241;43m.\u001b[39;49m\u001b[43mheaders\u001b[49m\u001b[43m,\u001b[49m\n\u001b[0;32m    445\u001b[0m \u001b[43m        \u001b[49m\u001b[43mredirect\u001b[49m\u001b[38;5;241;43m=\u001b[39;49m\u001b[38;5;28;43;01mFalse\u001b[39;49;00m\u001b[43m,\u001b[49m\n\u001b[0;32m    446\u001b[0m \u001b[43m        \u001b[49m\u001b[43massert_same_host\u001b[49m\u001b[38;5;241;43m=\u001b[39;49m\u001b[38;5;28;43;01mFalse\u001b[39;49;00m\u001b[43m,\u001b[49m\n\u001b[0;32m    447\u001b[0m \u001b[43m        \u001b[49m\u001b[43mpreload_content\u001b[49m\u001b[38;5;241;43m=\u001b[39;49m\u001b[38;5;28;43;01mFalse\u001b[39;49;00m\u001b[43m,\u001b[49m\n\u001b[0;32m    448\u001b[0m \u001b[43m        \u001b[49m\u001b[43mdecode_content\u001b[49m\u001b[38;5;241;43m=\u001b[39;49m\u001b[38;5;28;43;01mFalse\u001b[39;49;00m\u001b[43m,\u001b[49m\n\u001b[0;32m    449\u001b[0m \u001b[43m        \u001b[49m\u001b[43mretries\u001b[49m\u001b[38;5;241;43m=\u001b[39;49m\u001b[38;5;28;43mself\u001b[39;49m\u001b[38;5;241;43m.\u001b[39;49m\u001b[43mmax_retries\u001b[49m\u001b[43m,\u001b[49m\n\u001b[0;32m    450\u001b[0m \u001b[43m        \u001b[49m\u001b[43mtimeout\u001b[49m\u001b[38;5;241;43m=\u001b[39;49m\u001b[43mtimeout\u001b[49m\n\u001b[0;32m    451\u001b[0m \u001b[43m    \u001b[49m\u001b[43m)\u001b[49m\n\u001b[0;32m    453\u001b[0m \u001b[38;5;66;03m# Send the request.\u001b[39;00m\n\u001b[0;32m    454\u001b[0m \u001b[38;5;28;01melse\u001b[39;00m:\n",
      "File \u001b[1;32m~\\anaconda3\\lib\\site-packages\\urllib3\\connectionpool.py:785\u001b[0m, in \u001b[0;36mHTTPConnectionPool.urlopen\u001b[1;34m(self, method, url, body, headers, retries, redirect, assert_same_host, timeout, pool_timeout, release_conn, chunked, body_pos, **response_kw)\u001b[0m\n\u001b[0;32m    783\u001b[0m     e \u001b[38;5;241m=\u001b[39m ProtocolError(\u001b[38;5;124m\"\u001b[39m\u001b[38;5;124mConnection aborted.\u001b[39m\u001b[38;5;124m\"\u001b[39m, e)\n\u001b[1;32m--> 785\u001b[0m retries \u001b[38;5;241m=\u001b[39m \u001b[43mretries\u001b[49m\u001b[38;5;241;43m.\u001b[39;49m\u001b[43mincrement\u001b[49m\u001b[43m(\u001b[49m\n\u001b[0;32m    786\u001b[0m \u001b[43m    \u001b[49m\u001b[43mmethod\u001b[49m\u001b[43m,\u001b[49m\u001b[43m \u001b[49m\u001b[43murl\u001b[49m\u001b[43m,\u001b[49m\u001b[43m \u001b[49m\u001b[43merror\u001b[49m\u001b[38;5;241;43m=\u001b[39;49m\u001b[43me\u001b[49m\u001b[43m,\u001b[49m\u001b[43m \u001b[49m\u001b[43m_pool\u001b[49m\u001b[38;5;241;43m=\u001b[39;49m\u001b[38;5;28;43mself\u001b[39;49m\u001b[43m,\u001b[49m\u001b[43m \u001b[49m\u001b[43m_stacktrace\u001b[49m\u001b[38;5;241;43m=\u001b[39;49m\u001b[43msys\u001b[49m\u001b[38;5;241;43m.\u001b[39;49m\u001b[43mexc_info\u001b[49m\u001b[43m(\u001b[49m\u001b[43m)\u001b[49m\u001b[43m[\u001b[49m\u001b[38;5;241;43m2\u001b[39;49m\u001b[43m]\u001b[49m\n\u001b[0;32m    787\u001b[0m \u001b[43m\u001b[49m\u001b[43m)\u001b[49m\n\u001b[0;32m    788\u001b[0m retries\u001b[38;5;241m.\u001b[39msleep()\n",
      "File \u001b[1;32m~\\anaconda3\\lib\\site-packages\\urllib3\\util\\retry.py:592\u001b[0m, in \u001b[0;36mRetry.increment\u001b[1;34m(self, method, url, response, error, _pool, _stacktrace)\u001b[0m\n\u001b[0;32m    591\u001b[0m \u001b[38;5;28;01mif\u001b[39;00m new_retry\u001b[38;5;241m.\u001b[39mis_exhausted():\n\u001b[1;32m--> 592\u001b[0m     \u001b[38;5;28;01mraise\u001b[39;00m MaxRetryError(_pool, url, error \u001b[38;5;129;01mor\u001b[39;00m ResponseError(cause))\n\u001b[0;32m    594\u001b[0m log\u001b[38;5;241m.\u001b[39mdebug(\u001b[38;5;124m\"\u001b[39m\u001b[38;5;124mIncremented Retry for (url=\u001b[39m\u001b[38;5;124m'\u001b[39m\u001b[38;5;132;01m%s\u001b[39;00m\u001b[38;5;124m'\u001b[39m\u001b[38;5;124m): \u001b[39m\u001b[38;5;132;01m%r\u001b[39;00m\u001b[38;5;124m\"\u001b[39m, url, new_retry)\n",
      "\u001b[1;31mMaxRetryError\u001b[0m: HTTPSConnectionPool(host='encrypted-tbn0.gstatic.com', port=443): Max retries exceeded with url: /images?q=tbn:ANd9GcQVZM30e1gWmOjcaNb5csU2wOgBt5Es32BU1tQKcHRKb9pxQU-1iJAzHGeilw&s (Caused by NewConnectionError('<urllib3.connection.HTTPSConnection object at 0x000001E4A11B8610>: Failed to establish a new connection: [WinError 10060] A connection attempt failed because the connected party did not properly respond after a period of time, or established connection failed because connected host has failed to respond'))",
      "\nDuring handling of the above exception, another exception occurred:\n",
      "\u001b[1;31mConnectionError\u001b[0m                           Traceback (most recent call last)",
      "Input \u001b[1;32mIn [42]\u001b[0m, in \u001b[0;36m<cell line: 3>\u001b[1;34m()\u001b[0m\n\u001b[0;32m      3\u001b[0m \u001b[38;5;28;01mfor\u001b[39;00m i \u001b[38;5;129;01min\u001b[39;00m image_tags:  \u001b[38;5;66;03m## iteration over items in images \u001b[39;00m\n\u001b[0;32m      4\u001b[0m     image_url \u001b[38;5;241m=\u001b[39m i[\u001b[38;5;124m\"\u001b[39m\u001b[38;5;124msrc\u001b[39m\u001b[38;5;124m\"\u001b[39m]  \u001b[38;5;66;03m## examples I showed above\u001b[39;00m\n\u001b[1;32m----> 5\u001b[0m     image_data \u001b[38;5;241m=\u001b[39m \u001b[43mrequests\u001b[49m\u001b[38;5;241;43m.\u001b[39;49m\u001b[43mget\u001b[49m\u001b[43m(\u001b[49m\u001b[43mimage_url\u001b[49m\u001b[43m)\u001b[49m\u001b[38;5;241m.\u001b[39mcontent  \u001b[38;5;66;03m### output content of the url\u001b[39;00m\n\u001b[0;32m      6\u001b[0m     mydict \u001b[38;5;241m=\u001b[39m {\u001b[38;5;124m\"\u001b[39m\u001b[38;5;124mindex\u001b[39m\u001b[38;5;124m\"\u001b[39m: image_url, \u001b[38;5;124m\"\u001b[39m\u001b[38;5;124mimage\u001b[39m\u001b[38;5;124m\"\u001b[39m: image_data}  \u001b[38;5;66;03m## becos we have keys and values all in {}\u001b[39;00m\n\u001b[0;32m      7\u001b[0m     image_data_mongo\u001b[38;5;241m.\u001b[39mappend(mydict)  \u001b[38;5;66;03m### update the empty list with content of mydict\u001b[39;00m\n",
      "File \u001b[1;32m~\\anaconda3\\lib\\site-packages\\requests\\api.py:75\u001b[0m, in \u001b[0;36mget\u001b[1;34m(url, params, **kwargs)\u001b[0m\n\u001b[0;32m     64\u001b[0m \u001b[38;5;28;01mdef\u001b[39;00m \u001b[38;5;21mget\u001b[39m(url, params\u001b[38;5;241m=\u001b[39m\u001b[38;5;28;01mNone\u001b[39;00m, \u001b[38;5;241m*\u001b[39m\u001b[38;5;241m*\u001b[39mkwargs):\n\u001b[0;32m     65\u001b[0m     \u001b[38;5;124mr\u001b[39m\u001b[38;5;124;03m\"\"\"Sends a GET request.\u001b[39;00m\n\u001b[0;32m     66\u001b[0m \n\u001b[0;32m     67\u001b[0m \u001b[38;5;124;03m    :param url: URL for the new :class:`Request` object.\u001b[39;00m\n\u001b[1;32m   (...)\u001b[0m\n\u001b[0;32m     72\u001b[0m \u001b[38;5;124;03m    :rtype: requests.Response\u001b[39;00m\n\u001b[0;32m     73\u001b[0m \u001b[38;5;124;03m    \"\"\"\u001b[39;00m\n\u001b[1;32m---> 75\u001b[0m     \u001b[38;5;28;01mreturn\u001b[39;00m request(\u001b[38;5;124m'\u001b[39m\u001b[38;5;124mget\u001b[39m\u001b[38;5;124m'\u001b[39m, url, params\u001b[38;5;241m=\u001b[39mparams, \u001b[38;5;241m*\u001b[39m\u001b[38;5;241m*\u001b[39mkwargs)\n",
      "File \u001b[1;32m~\\anaconda3\\lib\\site-packages\\requests\\api.py:61\u001b[0m, in \u001b[0;36mrequest\u001b[1;34m(method, url, **kwargs)\u001b[0m\n\u001b[0;32m     57\u001b[0m \u001b[38;5;66;03m# By using the 'with' statement we are sure the session is closed, thus we\u001b[39;00m\n\u001b[0;32m     58\u001b[0m \u001b[38;5;66;03m# avoid leaving sockets open which can trigger a ResourceWarning in some\u001b[39;00m\n\u001b[0;32m     59\u001b[0m \u001b[38;5;66;03m# cases, and look like a memory leak in others.\u001b[39;00m\n\u001b[0;32m     60\u001b[0m \u001b[38;5;28;01mwith\u001b[39;00m sessions\u001b[38;5;241m.\u001b[39mSession() \u001b[38;5;28;01mas\u001b[39;00m session:\n\u001b[1;32m---> 61\u001b[0m     \u001b[38;5;28;01mreturn\u001b[39;00m session\u001b[38;5;241m.\u001b[39mrequest(method\u001b[38;5;241m=\u001b[39mmethod, url\u001b[38;5;241m=\u001b[39murl, \u001b[38;5;241m*\u001b[39m\u001b[38;5;241m*\u001b[39mkwargs)\n",
      "File \u001b[1;32m~\\anaconda3\\lib\\site-packages\\requests\\sessions.py:529\u001b[0m, in \u001b[0;36mSession.request\u001b[1;34m(self, method, url, params, data, headers, cookies, files, auth, timeout, allow_redirects, proxies, hooks, stream, verify, cert, json)\u001b[0m\n\u001b[0;32m    524\u001b[0m send_kwargs \u001b[38;5;241m=\u001b[39m {\n\u001b[0;32m    525\u001b[0m     \u001b[38;5;124m'\u001b[39m\u001b[38;5;124mtimeout\u001b[39m\u001b[38;5;124m'\u001b[39m: timeout,\n\u001b[0;32m    526\u001b[0m     \u001b[38;5;124m'\u001b[39m\u001b[38;5;124mallow_redirects\u001b[39m\u001b[38;5;124m'\u001b[39m: allow_redirects,\n\u001b[0;32m    527\u001b[0m }\n\u001b[0;32m    528\u001b[0m send_kwargs\u001b[38;5;241m.\u001b[39mupdate(settings)\n\u001b[1;32m--> 529\u001b[0m resp \u001b[38;5;241m=\u001b[39m \u001b[38;5;28mself\u001b[39m\u001b[38;5;241m.\u001b[39msend(prep, \u001b[38;5;241m*\u001b[39m\u001b[38;5;241m*\u001b[39msend_kwargs)\n\u001b[0;32m    531\u001b[0m \u001b[38;5;28;01mreturn\u001b[39;00m resp\n",
      "File \u001b[1;32m~\\anaconda3\\lib\\site-packages\\requests\\sessions.py:645\u001b[0m, in \u001b[0;36mSession.send\u001b[1;34m(self, request, **kwargs)\u001b[0m\n\u001b[0;32m    642\u001b[0m start \u001b[38;5;241m=\u001b[39m preferred_clock()\n\u001b[0;32m    644\u001b[0m \u001b[38;5;66;03m# Send the request\u001b[39;00m\n\u001b[1;32m--> 645\u001b[0m r \u001b[38;5;241m=\u001b[39m adapter\u001b[38;5;241m.\u001b[39msend(request, \u001b[38;5;241m*\u001b[39m\u001b[38;5;241m*\u001b[39mkwargs)\n\u001b[0;32m    647\u001b[0m \u001b[38;5;66;03m# Total elapsed time of the request (approximately)\u001b[39;00m\n\u001b[0;32m    648\u001b[0m elapsed \u001b[38;5;241m=\u001b[39m preferred_clock() \u001b[38;5;241m-\u001b[39m start\n",
      "File \u001b[1;32m~\\anaconda3\\lib\\site-packages\\requests\\adapters.py:519\u001b[0m, in \u001b[0;36mHTTPAdapter.send\u001b[1;34m(self, request, stream, timeout, verify, cert, proxies)\u001b[0m\n\u001b[0;32m    515\u001b[0m     \u001b[38;5;28;01mif\u001b[39;00m \u001b[38;5;28misinstance\u001b[39m(e\u001b[38;5;241m.\u001b[39mreason, _SSLError):\n\u001b[0;32m    516\u001b[0m         \u001b[38;5;66;03m# This branch is for urllib3 v1.22 and later.\u001b[39;00m\n\u001b[0;32m    517\u001b[0m         \u001b[38;5;28;01mraise\u001b[39;00m SSLError(e, request\u001b[38;5;241m=\u001b[39mrequest)\n\u001b[1;32m--> 519\u001b[0m     \u001b[38;5;28;01mraise\u001b[39;00m \u001b[38;5;167;01mConnectionError\u001b[39;00m(e, request\u001b[38;5;241m=\u001b[39mrequest)\n\u001b[0;32m    521\u001b[0m \u001b[38;5;28;01mexcept\u001b[39;00m ClosedPoolError \u001b[38;5;28;01mas\u001b[39;00m e:\n\u001b[0;32m    522\u001b[0m     \u001b[38;5;28;01mraise\u001b[39;00m \u001b[38;5;167;01mConnectionError\u001b[39;00m(e, request\u001b[38;5;241m=\u001b[39mrequest)\n",
      "\u001b[1;31mConnectionError\u001b[0m: HTTPSConnectionPool(host='encrypted-tbn0.gstatic.com', port=443): Max retries exceeded with url: /images?q=tbn:ANd9GcQVZM30e1gWmOjcaNb5csU2wOgBt5Es32BU1tQKcHRKb9pxQU-1iJAzHGeilw&s (Caused by NewConnectionError('<urllib3.connection.HTTPSConnection object at 0x000001E4A11B8610>: Failed to establish a new connection: [WinError 10060] A connection attempt failed because the connected party did not properly respond after a period of time, or established connection failed because connected host has failed to respond'))"
     ]
    }
   ],
   "source": [
    "### extract and append to lis\n",
    "image_data_mongo = []  ## empty list, to append to!\n",
    "for i in image_tags:  ## iteration over items in images \n",
    "    image_url = i[\"src\"]  ## examples I showed above\n",
    "    image_data = requests.get(image_url).content  ### output content of the url\n",
    "    mydict = {\"index\": image_url, \"image\": image_data}  ## becos we have keys and values all in {}\n",
    "    image_data_mongo.append(mydict)  ### update the empty list with content of mydict\n",
    "    with open(os.path.join(save_dir, f\"{query}_{image_tags.index(i)}.jpg\"), \"wb\") as f:\n",
    "        f.write(image_data)\n",
    "    \n",
    "    "
   ]
  }
 ],
 "metadata": {
  "kernelspec": {
   "display_name": "Python 3 (ipykernel)",
   "language": "python",
   "name": "python3"
  },
  "language_info": {
   "codemirror_mode": {
    "name": "ipython",
    "version": 3
   },
   "file_extension": ".py",
   "mimetype": "text/x-python",
   "name": "python",
   "nbconvert_exporter": "python",
   "pygments_lexer": "ipython3",
   "version": "3.9.12"
  }
 },
 "nbformat": 4,
 "nbformat_minor": 5
}
